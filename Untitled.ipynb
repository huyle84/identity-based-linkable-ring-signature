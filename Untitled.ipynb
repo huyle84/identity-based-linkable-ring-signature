{
 "cells": [
  {
   "cell_type": "code",
   "execution_count": null,
   "metadata": {},
   "outputs": [],
   "source": [
    "u=uniform(0, 1)\n",
    "while gauss_function_vector(zz_s, cc, sigma)/(M*gauss_function_vector(zz_s, cc, sigma))<=u:\n",
    "    x=randint(c-s*t,c+s*t)\n",
    "    u=uniform(0, 1)\n"
   ]
  },
  {
   "cell_type": "code",
   "execution_count": 2,
   "metadata": {},
   "outputs": [
    {
     "name": "stdout",
     "output_type": "stream",
     "text": [
      "y= 12\n"
     ]
    }
   ],
   "source": [
    "y=0\n",
    "while True:\n",
    "    y=y+3\n",
    "    if y>=10:\n",
    "        break\n",
    "print(\"y=\",y)"
   ]
  },
  {
   "cell_type": "code",
   "execution_count": null,
   "metadata": {},
   "outputs": [],
   "source": [
    "smoothing_parameter_of_ZZ(epsilon)\n",
    "\n",
    "smoothing_parameter_q_ary_lattice(AA, q, epsilon)"
   ]
  },
  {
   "cell_type": "code",
   "execution_count": 1,
   "metadata": {},
   "outputs": [
    {
     "data": {
      "text/plain": [
       "sqrt(139)"
      ]
     },
     "execution_count": 1,
     "metadata": {},
     "output_type": "execute_result"
    }
   ],
   "source": [
    "x=vector([2,3,4,5,6,7])\n",
    "x.norm()"
   ]
  },
  {
   "cell_type": "code",
   "execution_count": null,
   "metadata": {},
   "outputs": [],
   "source": []
  }
 ],
 "metadata": {
  "kernelspec": {
   "display_name": "SageMath 9.2",
   "language": "sage",
   "name": "sagemath"
  },
  "language_info": {
   "codemirror_mode": {
    "name": "ipython",
    "version": 3
   },
   "file_extension": ".py",
   "mimetype": "text/x-python",
   "name": "python",
   "nbconvert_exporter": "python",
   "pygments_lexer": "ipython3",
   "version": "3.8.5"
  }
 },
 "nbformat": 4,
 "nbformat_minor": 4
}
