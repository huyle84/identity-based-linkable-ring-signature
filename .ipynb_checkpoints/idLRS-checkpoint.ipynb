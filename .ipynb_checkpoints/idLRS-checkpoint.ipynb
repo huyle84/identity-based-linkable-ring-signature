{
 "cells": [
  {
   "cell_type": "code",
   "execution_count": null,
   "metadata": {},
   "outputs": [],
   "source": [
    "from sage.stats.distributions.discrete_gaussian_integer import DiscreteGaussianDistributionIntegerSampler\n",
    "\n",
    "import hashlib\n",
    "import statistics\n",
    "import os\n",
    "\n",
    "\n",
    "\n",
    "def SecretGen(q,n):\n",
    "    \"\"\"\n",
    "    Generate the secret of LWR instance: uniformly from {-q,...,q}\n",
    "    \"\"\"\n",
    "    \n",
    "    #list_ss=[randint(-q, q) for i in range(n)]\n",
    "    ssZZ=vector(ZZ,[randint(-q, q) for i in range(n)])\n",
    "    return ssZZ\n",
    "SecretGen(13,5)\n"
   ]
  },
  {
   "cell_type": "code",
   "execution_count": null,
   "metadata": {},
   "outputs": [],
   "source": [
    "def sampleZZ(n,s,c):\n",
    "    \"\"\"\n",
    "    Sample from D_{ZZ,s,c}\n",
    "    \\rho_s,c(x):=exp(-(x-c)^2/(2s^2))\n",
    "    See at https://doc.sagemath.org/html/en/reference/stats/sage/stats/distributions/discrete_gaussian_integer.html\n",
    "    \"\"\"\n",
    "    \n",
    "    return DiscreteGaussianDistributionIntegerSampler(s, c)"
   ]
  },
  {
   "cell_type": "code",
   "execution_count": null,
   "metadata": {},
   "outputs": [],
   "source": [
    "from sage.stats.distributions.discrete_gaussian_lattice import DiscreteGaussianDistributionLatticeSampler\n",
    "def sampleD(n,s,c):\n",
    "    \"\"\"\n",
    "    Sample from D_{ZZ,s,c}\n",
    "    \\rho_s,c(x):=exp(-(x-c)^2/(2s^2))\n",
    "    See at https://doc.sagemath.org/html/en/reference/stats/sage/stats/distributions/discrete_gaussian_lattice.html\n",
    "    \"\"\"\n",
    "    \n",
    "    return DiscreteGaussianDistributionLatticeSampler(ZZ^10, 3.0)"
   ]
  },
  {
   "cell_type": "code",
   "execution_count": null,
   "metadata": {},
   "outputs": [],
   "source": [
    "#==========================================================\n",
    "def GenTrapMP12():\n",
    "    \"\"\"\n",
    "    \n",
    "    \"\"\"\n",
    "    \n",
    "#==========================================================  "
   ]
  }
 ],
 "metadata": {
  "kernelspec": {
   "display_name": "SageMath 9.2",
   "language": "sage",
   "name": "sagemath"
  },
  "language_info": {
   "codemirror_mode": {
    "name": "ipython",
    "version": 3
   },
   "file_extension": ".py",
   "mimetype": "text/x-python",
   "name": "python",
   "nbconvert_exporter": "python",
   "pygments_lexer": "ipython3",
   "version": "3.7.7"
  }
 },
 "nbformat": 4,
 "nbformat_minor": 4
}
