{
 "cells": [
  {
   "cell_type": "code",
   "execution_count": 6,
   "metadata": {},
   "outputs": [
    {
     "name": "stdout",
     "output_type": "stream",
     "text": [
      "Please enter the security_parameter n=: \n",
      "\n"
     ]
    },
    {
     "name": "stdin",
     "output_type": "stream",
     "text": [
      " 20\n"
     ]
    },
    {
     "name": "stdout",
     "output_type": "stream",
     "text": [
      "Please enter  k (q=2^k) s.t. k-log_2(k)>= 18\n",
      "Please enter k: \n",
      "\n"
     ]
    },
    {
     "name": "stdin",
     "output_type": "stream",
     "text": [
      " 30\n"
     ]
    },
    {
     "name": "stdout",
     "output_type": "stream",
     "text": [
      "Please enter a modulus q>=2:\n",
      "\n",
      "q=2^ 30 = 1073741824\n",
      "Please enter mt>= 600\n"
     ]
    },
    {
     "name": "stdin",
     "output_type": "stream",
     "text": [
      " 600\n"
     ]
    },
    {
     "name": "stdout",
     "output_type": "stream",
     "text": [
      "We have m=mt+n*k= 1200\n"
     ]
    },
    {
     "data": {
      "text/plain": [
       "(20,\n",
       " 1073741824,\n",
       " 600,\n",
       " 14,\n",
       " 1200,\n",
       " 3,\n",
       " 4.48083023712027,\n",
       " 411.745659962402,\n",
       " 25700.3731384561,\n",
       " 1.83182913902287e8)"
      ]
     },
     "execution_count": 6,
     "metadata": {},
     "output_type": "execute_result"
    }
   ],
   "source": [
    "def smoothing_parameter_of_ZZ(epsilon):\n",
    "    \"\"\"\n",
    "    This algorithm computes the smoothing parameter eta_epsilon(ZZ).\n",
    "    * Input:\n",
    "        - epsilon: a very small positive real number. E.g., we can set epsilon=2^(-71) or epsilon=2^(-84)\n",
    "    * Output:\n",
    "        - smoothing parameter eta_epsilon(ZZ), which is denoted by smt_para\n",
    "    \n",
    "    \"\"\"\n",
    "    smt_para=RR(sqrt(ln(2/epsilon)/pi))\n",
    "    #print(\"smt_para=\", smt_para)\n",
    "    return smt_para\n",
    "\n",
    "\n",
    "\n",
    "#==================================\n",
    "def idlrs_parameter_setup():\n",
    "    \n",
    "    print(\"Please enter the security_parameter n=: \\n\")\n",
    "    n=int(input())\n",
    "    #print(\"We have n=secuirty_parameter=\\n\", n)\n",
    "    t=log(n,2)\n",
    "    vp=2+3*t+log(t,2)\n",
    "   \n",
    "    print(\"Please enter  k (q=2^k) s.t. k-log_2(k)>=\",ceil(vp))\n",
    "    print(\"Please enter k: \\n\")\n",
    "    k=int(input())\n",
    "    \n",
    "    \n",
    "    print(\"Please enter a modulus q>=2:\\n\")\n",
    "    q = 2^k\n",
    "    print(\"q=2^\",k, \"=\", q)\n",
    "    \n",
    "    print(\"Please enter mt>=\",n*k)\n",
    "    mt= int(input())\n",
    "    m=mt+n*k\n",
    "    print(\"We have m=mt+n*k=\",m)\n",
    "    \n",
    "    \n",
    "    #print(\"Please enter min-entropy of the hash function H_2, alpha=n\")\n",
    "    #alpha=n\n",
    "    w=ceil(n/2)\n",
    "    #while 2^w*binomial(n,w)< 2^alpha:\n",
    "        #print(\"Please enter w s.t. 2^w*binomial(n,w)>=\", 2^alpha)\n",
    "        #w= int(input())\n",
    "    \n",
    "    \n",
    "    M=3\n",
    "    #k=ceil(log(q,2))\n",
    "    \n",
    "    \n",
    "    #print(\"Please enter epsilon_power (for the smoothing parameter and Gaussian parameters)\")\n",
    "    #print(\"then we can compute epsilon=2^(-epsilon_power)\")\n",
    "    #print(\"We should choose epsilon_power>=84:\\n\")\n",
    "    epsilon_power= 90 #int(input())\n",
    "    epsilon=RR(2^(-epsilon_power))\n",
    "    \n",
    "    # Gaussian parameter for gen_trap_mp12\n",
    "    sigma_1=smoothing_parameter_of_ZZ(epsilon)\n",
    "    \n",
    "    # Gaussian parameter for del_trap_mp12\n",
    "    s_1_TT=RR(sigma_1*(1/sqrt(2*pi))*(sqrt(mt)+sqrt(n*k)))\n",
    "    sigma_2=RR(sqrt(5)*(s_1_TT+1)*(sqrt(log(n,2))))\n",
    "    \n",
    "    # Gaussian parameter for sample_d_mp12\n",
    "    s_1_TT_id=RR(sigma_2*(1/sqrt(2*pi))*(sqrt(m)+sqrt(n*k)))\n",
    "    sigma_3=RR(sqrt(7*(s_1_TT_id^2+1)))\n",
    "    \n",
    "     # Gaussian parameter for rejection sampling\n",
    "    \n",
    "    #print(\"sqrt(log(m+n*k+n,2))=\", sqrt(log(m+n*k+n,2)))\n",
    "    sigma=RR(12*sigma_3*sqrt(m+n*k)*w)\n",
    "    \n",
    "    assert q >= sqrt(m)*q^(n/m)*sqrt(n*log(n,2))\n",
    "    #assert q>=2*1.1*sigma*sqrt(m+n*k+n)#>=sqrt(m)*q^(n/m)\n",
    "    #assert 2^w*binomial(n,w)>=2^alpha\n",
    "    \n",
    "    public_parameters=(n, q, mt, w, m, M, sigma_1, sigma_2, sigma_3, sigma)\n",
    "    #print(\"public_parameters=(n,q, w, M, m, mt)=\", public_parameters)\n",
    "    \n",
    "    # create a txt file containing the main public parameters n, q, mt and w.\n",
    "    file_params= open(\"idlrs_parameters.txt\", \"a\")\n",
    "    file_params_info = str(n) + ',' +  str(q) + ',' + str(mt) + ','+ str(w) + ','+ str(m) + ','+ str(M) +','+ str(sigma_1) + ','+ str(sigma_2) + ','+ str(sigma_3) + ','+ str(sigma) +'\\n' # each line\n",
    "    file_params.write(file_params_info) \n",
    "    file_params.close()\n",
    "     \n",
    "    \n",
    "    return public_parameters\n",
    "\n",
    "\n",
    "idlrs_parameter_setup()"
   ]
  },
  {
   "cell_type": "code",
   "execution_count": null,
   "metadata": {},
   "outputs": [],
   "source": []
  }
 ],
 "metadata": {
  "kernelspec": {
   "display_name": "SageMath 9.2",
   "language": "sage",
   "name": "sagemath"
  },
  "language_info": {
   "codemirror_mode": {
    "name": "ipython",
    "version": 3
   },
   "file_extension": ".py",
   "mimetype": "text/x-python",
   "name": "python",
   "nbconvert_exporter": "python",
   "pygments_lexer": "ipython3",
   "version": "3.8.5"
  }
 },
 "nbformat": 4,
 "nbformat_minor": 4
}
