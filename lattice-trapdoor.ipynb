{
 "cells": [
  {
   "cell_type": "code",
   "execution_count": 485,
   "metadata": {},
   "outputs": [],
   "source": [
    "# coding: utf-8\n",
    "###========================================================###\n",
    "###========================================================###\n",
    "###         IDENTITY-BASED LINKABLE RING SIGNATURE         ###\n",
    "###========================================================###\n",
    "###========================================================###\n",
    "\n",
    "from timeit import default_timer as timer\n",
    "import sys\n",
    "import random\n",
    "import time\n",
    "import hashlib\n",
    "import statistics\n",
    "import os\n",
    "import matplotlib.pyplot as plt "
   ]
  },
  {
   "cell_type": "code",
   "execution_count": null,
   "metadata": {},
   "outputs": [],
   "source": []
  },
  {
   "cell_type": "code",
   "execution_count": 200,
   "metadata": {},
   "outputs": [
    {
     "name": "stdout",
     "output_type": "stream",
     "text": [
      "0.659211750170128\n",
      "6.33299350738525e-8\n"
     ]
    }
   ],
   "source": [
    "def gauss_function_number(x, c, s):\n",
    "    \"\"\"\n",
    "    * Input:\n",
    "        - x: a variable\n",
    "        - c: a center\n",
    "        - s: a Gaussian paramter\n",
    "    * Output:\n",
    "        - exp(-pi*(x-c)^2/s^2)\n",
    "    \"\"\"\n",
    "    #If x,c are real numbers\n",
    "   \n",
    "    return exp(-pi*(x-c)^2/s^2)\n",
    "   \n",
    "\n",
    "s=RR.random_element(1,10)\n",
    "\n",
    "x=random_vector(ZZ,3)\n",
    "c=random_vector(ZZ,3)\n",
    "#x=randint(0,10)\n",
    "#c=randint(0,10)\n",
    "\n",
    "#=================\n",
    "def gauss_function_vector(x, c, s):\n",
    "    \"\"\"\n",
    "    * Input\n",
    "        - a variable x\n",
    "        - a center c\n",
    "        - a Gaussian paramter s\n",
    "    * Output:\n",
    "        - exp(-pi*(x-c)^2/s^2)\n",
    "    \"\"\"\n",
    "    #If x,c are real numbers\n",
    "    return exp(-pi*(x-c).norm()^2/s^2)\n",
    "\n",
    "\n",
    "#=======================================================\n",
    "# A TEST CASE\n",
    "\n",
    "s=RR.random_element(1,10)\n",
    "\n",
    "xx=random_vector(ZZ,3)\n",
    "cc=random_vector(ZZ,3)\n",
    "x=randint(0,10)\n",
    "c=randint(0,10)\n",
    "\n",
    "print(RR(gauss_function_number(x,c, s)))\n",
    "\n",
    "print(RR(gauss_function_vector(xx,cc, s)))\n"
   ]
  },
  {
   "cell_type": "code",
   "execution_count": 292,
   "metadata": {},
   "outputs": [
    {
     "data": {
      "text/plain": [
       "0"
      ]
     },
     "execution_count": 292,
     "metadata": {},
     "output_type": "execute_result"
    }
   ],
   "source": [
    "from sage.stats.distributions.discrete_gaussian_integer import DiscreteGaussianDistributionIntegerSampler\n",
    "def sample_z(s,c):\n",
    "    \"\"\"\n",
    "    Sample from D_{ZZ,s,c} defined by \\rho_s,c(x):=exp(-(x-c)^2/(2s^2))\n",
    "    s: Gaussian parameter\n",
    "    c: center\n",
    "    Input:\n",
    "    \n",
    "    Output:\n",
    "    \n",
    "    See at https://doc.sagemath.org/html/en/reference/stats/sage/stats/distributions/discrete_gaussian_integer.html\n",
    "    \"\"\"\n",
    "    D=DiscreteGaussianDistributionIntegerSampler(s, c)\n",
    "    return D()\n",
    "\n",
    "#=======================================================\n",
    "# A TEST CASE\n",
    "sample_z(2,0)\n",
    "#histogram([sample_z(2,0) for _ in range(200)])"
   ]
  },
  {
   "cell_type": "code",
   "execution_count": 213,
   "metadata": {},
   "outputs": [
    {
     "data": {
      "image/png": "[encoded data removed]",
      "text/plain": [
       "Graphics object consisting of 1 graphics primitive"
      ]
     },
     "execution_count": 213,
     "metadata": {},
     "output_type": "execute_result"
    }
   ],
   "source": [
    "def sample_z_gpv08(s,c,n=3):\n",
    "    \"\"\"\n",
    "    Sample from D_{ZZ,s,c} defined by rho_s,c(x):=exp(-(x-c)^2/(2s^2))\n",
    "    * Input:\n",
    "        - s: Gaussian parameter\n",
    "        - c: center\n",
    "        - n: security parameter. However, we can see it as the dimension \n",
    "           (when you want to use sample_z_gpv08 in sample_d_gpv08 to sample \n",
    "           lattice vectors of an n-dimensional lattice)\n",
    "    * Output:\n",
    "        - An integer x ~ D_{ZZ,s,c} defined by rho_s,c(x):=exp(-(x-c)^2/(2s^2))\n",
    "    See at https://doc.sagemath.org/html/en/reference/stats/sage/stats/\n",
    "        distributions/discrete_gaussian_integer.html\n",
    "    \"\"\"\n",
    "    t=log(n,2)\n",
    "    x=randint(c-s*t,c+s*t)\n",
    "    #u=RR.random_element(0,1)\n",
    "    u=uniform(0, 1)\n",
    "    while gauss_function_number(x,c,s)<=u:\n",
    "        x=randint(c-s*t,c+s*t)\n",
    "        u=uniform(0, 1)\n",
    "    return x\n",
    "\n",
    "#=======================================================\n",
    "# A TEST CASE\n",
    "s=2\n",
    "c=0\n",
    "n=1024\n",
    "histogram([sample_z_gpv08(s,c,n) for _ in range(200)])"
   ]
  },
  {
   "cell_type": "code",
   "execution_count": 214,
   "metadata": {},
   "outputs": [],
   "source": [
    "def coeff_x(xx,yy):\n",
    "    \"\"\"\n",
    "    * Compute <xx,yy>/||yy||^2\n",
    "    * Input:\n",
    "        - xx, yy: two vectors of same length\n",
    "    * Output:\n",
    "        - <xx,yy>/||yy||^2        \n",
    "    \"\"\"\n",
    "    return (xx.dot_product(yy))/(yy.dot_product(yy))\n"
   ]
  },
  {
   "cell_type": "code",
   "execution_count": 300,
   "metadata": {},
   "outputs": [
    {
     "name": "stdout",
     "output_type": "stream",
     "text": [
      "AA=\n",
      "[ -1   1   0]\n",
      "[  1   0  -1]\n",
      "[  0  -6 -29]\n",
      "s= 5\n",
      "cc= (-1, 0, 1)\n"
     ]
    },
    {
     "data": {
      "text/plain": [
       "(-3, 2, 1)"
      ]
     },
     "execution_count": 300,
     "metadata": {},
     "output_type": "execute_result"
    }
   ],
   "source": [
    "def sample_d_gpv08(AA, s, cc):\n",
    "    \"\"\"\n",
    "    * Sample a lattice vector of lattice L(AA)  (SampleD in [GPV08, Section 4.2])\n",
    "    * Input:\n",
    "        - cc: center vector\n",
    "        -  s: Gaussian parameter\n",
    "        - AA: basis of a lattice\n",
    "    * Output:  lattice_vector: a vector of lattice L(AA) \n",
    "    \"\"\"    \n",
    "    \n",
    "    vv=copy(cc)\n",
    "    BB=AA.gram_schmidt()[0]\n",
    "    m=BB.nrows()\n",
    "    n=BB.ncols()\n",
    "    lattice_vector=zero_vector(ZZ, n)           # closest_vector:=zero_vector\n",
    "    i=m\n",
    "    while i>0:\n",
    "        i=i-1\n",
    "        c_i_dash=coeff_x(cc,BB[i])\n",
    "        s_i_dash=s/(BB[i].norm())\n",
    "        z_i=sample_z(s_i_dash,c_i_dash)\n",
    "        cc=cc-z_i*AA[i]\n",
    "        lattice_vector=lattice_vector + z_i*AA[i]\n",
    "    return lattice_vector\n",
    "\n",
    "#=============================================================\n",
    "# A TEST CASE\n",
    "AA=random_matrix(ZZ, 3, 3)\n",
    "s=randint(1,8)\n",
    "cc=random_vector(ZZ,3)\n",
    "print(\"AA=\")\n",
    "print(AA)\n",
    "print(\"s=\",s)\n",
    "print(\"cc=\",cc)\n",
    "sample_d_gpv08(AA, s, cc)\n",
    "#histogram([sample_d_gpv08(AA,s,cc) for _ in range(200)])"
   ]
  },
  {
   "cell_type": "code",
   "execution_count": 298,
   "metadata": {},
   "outputs": [
    {
     "name": "stdout",
     "output_type": "stream",
     "text": [
      "AA=\n",
      "[-1  4  0]\n",
      "[-1 -1 -4]\n",
      "[ 4  1 11]\n",
      "s= 2\n",
      "cc= (5, 0, 0)\n"
     ]
    },
    {
     "data": {
      "image/png": "[encoded data removed]",
      "text/plain": [
       "Graphics object consisting of 1 graphics primitive"
      ]
     },
     "execution_count": 298,
     "metadata": {},
     "output_type": "execute_result"
    }
   ],
   "source": [
    "from sage.stats.distributions.discrete_gaussian_lattice import DiscreteGaussianDistributionLatticeSampler\n",
    "\n",
    "def sample_d(BB,s,cc):\n",
    "    \"\"\"\n",
    "    This algorithm is to sample a lattice vector from D_{L(BB),s,cc}, defined by \\rho_s,c(x):=exp(-||x-c||^2/(2s^2))\n",
    "    * Input:\n",
    "        - BB: a basis for the lattice L(BB) (BB can be input as ZZ^m)\n",
    "        - s: Gaussian parameter\n",
    "        - cc: center vector\n",
    "    * Output:\n",
    "        - A lattice vector sampled from discrete Gaussian D_{L(BB),s,cc}\n",
    "     See at https://doc.sagemath.org/html/en/reference/stats/sage/stats/\n",
    "     distributions/discrete_gaussian_lattice.html\n",
    "\n",
    "    \"\"\"\n",
    "    \n",
    "    D=DiscreteGaussianDistributionLatticeSampler(BB, s, cc)\n",
    "    return D()\n",
    "\n",
    "\n",
    "#==========================================================\n",
    "# A TEST CASE\n",
    "print(\"AA=\")\n",
    "print(AA)\n",
    "print(\"s=\",s)\n",
    "print(\"cc=\",cc)\n",
    "#sampleD(ZZ^3,s, cc)\n",
    "#DiscreteGaussianDistributionLatticeSampler(BB, sigma, cc)\n",
    "\n",
    "#sample_d(BB,sigma,cc)\n",
    "histogram([sample_d(AA,s,cc) for _ in range(200)])"
   ]
  },
  {
   "cell_type": "code",
   "execution_count": 217,
   "metadata": {},
   "outputs": [],
   "source": [
    "# This algorithm is to generate the gadget vector gg=(1 2 4 8....2^{k-1}) via [MP12]\n",
    "def gadget_vector(k):\n",
    "    \"\"\"\n",
    "    This algorithm is to generate the gadget vector gg=(1 2 4 8....2^{k-1}) via [MP12]\n",
    "    * Input: \n",
    "        - k: dimension of the output vector gg\n",
    "    * Output:  \n",
    "        - gg=(1 2 4 8....2^{k-1}).\n",
    "    \"\"\"\n",
    "    return vector([2**i for i in range(k)])\n"
   ]
  },
  {
   "cell_type": "code",
   "execution_count": 218,
   "metadata": {},
   "outputs": [
    {
     "name": "stdout",
     "output_type": "stream",
     "text": [
      "GG=\n",
      "[ 1  2  4  8 16  0  0  0  0  0  0  0  0  0  0]\n",
      "[ 0  0  0  0  0  1  2  4  8 16  0  0  0  0  0]\n",
      "[ 0  0  0  0  0  0  0  0  0  0  1  2  4  8 16]\n"
     ]
    }
   ],
   "source": [
    "\n",
    "def gadget_matrix(n, q):\n",
    "    \"\"\"\n",
    "    This algorithm is to generate the gadget matrix GG via [MP12]\n",
    "\n",
    "                             |gg  0   0  ...   0 |\n",
    "                             |0   gg  0  ...   0 |\n",
    "          Gadget matrix GG=  |0   0   gg ...   0 |    \n",
    "                             |...................|\n",
    "                             |0   0    0 ...   gg|\n",
    "                \n",
    "    Input: \n",
    "        - n: number of rows of GG\n",
    "        - q: modulus\n",
    "    \n",
    "    Output:                 \n",
    "        - The gadget matrix GG.\n",
    "    \"\"\"\n",
    "  \n",
    " \n",
    "    k=ceil(log(q,2))\n",
    "    m=n*k\n",
    "    ZZq = IntegerModRing(q)\n",
    "    #vector gg=[1 2 4 8....2^{k-1}] \n",
    "    gg=gadget_vector(k)\n",
    "    #print(\"gg=\",gg)\n",
    "    \n",
    "    # Initialize GG as a zero matrix in ZZ^{n x m}\n",
    "    GG=zero_matrix(ZZ,n, m)\n",
    "    #print(\"GG=\")\n",
    "    #print(GG)\n",
    "    \n",
    "    # For each row i, we change elements at i*k+j for j in [0,..,k-1] by gg[j]\n",
    "    for i in range(n):\n",
    "        for j in range(k):\n",
    "            GG[i,i*k+j]=gg[j]\n",
    "    #print(\"GG=\")\n",
    "    #print(GG)\n",
    "    # Change ring of GG into ZZ_q\n",
    "    GG.change_ring(ZZq)\n",
    "    \n",
    "    return GG\n",
    "\n",
    "#======================================\n",
    "# A TEST CASE\n",
    "GG=gadget_matrix(3, 17)\n",
    "print(\"GG=\")\n",
    "print(GG)"
   ]
  },
  {
   "cell_type": "code",
   "execution_count": 343,
   "metadata": {},
   "outputs": [
    {
     "name": "stdout",
     "output_type": "stream",
     "text": [
      "AA=\n",
      "[3 1 2 1]\n",
      "[3 1 2 4]\n",
      "[0 2 2 1]\n",
      "[4 4 1 1]\n",
      "AA is invertible?===> Answer: True\n"
     ]
    }
   ],
   "source": [
    "def random_invertible_matrix(modulus=1, size=3):\n",
    "    \"\"\"\n",
    "    Input:\n",
    "    - modulus: modulus of the base ring, such as modulus=5 then we consider the ring ZZ_5 \n",
    "    - size: default value is 3\n",
    "    Output: A matrix that is invertible in ZZ_q, with q=modulus\n",
    "    \"\"\"\n",
    "    # By default, if modulus=1, we are working in ZZ\n",
    "    if modulus==1:\n",
    "        V = ZZ**size\n",
    "        vectors = []\n",
    "        for i in range(size):\n",
    "            vv = V.random_element()\n",
    "            while vv in V.span(vectors):\n",
    "                vv = V.random_element()\n",
    "            vectors.append(vv)\n",
    "    # If modulus q>=2, we are working in ZZ_q        \n",
    "    if modulus >=2:\n",
    "        ZZq = IntegerModRing(modulus)\n",
    "        V = ZZq**size\n",
    "        vectors = []\n",
    "        for i in range(size):\n",
    "            vv = V.random_element()\n",
    "            while vv in V.span(vectors):\n",
    "                vv = V.random_element()\n",
    "            vectors.append(vv)\n",
    "    return(Matrix(vectors))\n",
    "\n",
    "#======================================================\n",
    "# A TEST CASE \n",
    "AA=random_invertible_matrix(5, 4)\n",
    "print(\"AA=\")\n",
    "print(AA)\n",
    "print(\"AA is invertible?===> Answer:\", AA.is_invertible())"
   ]
  },
  {
   "cell_type": "code",
   "execution_count": 464,
   "metadata": {},
   "outputs": [
    {
     "name": "stdout",
     "output_type": "stream",
     "text": [
      "smt_para= 3.98569482160776\n"
     ]
    },
    {
     "data": {
      "text/plain": [
       "3.98569482160776"
      ]
     },
     "execution_count": 464,
     "metadata": {},
     "output_type": "execute_result"
    }
   ],
   "source": [
    "def smoothing_parameter_of_ZZ(epsilon):\n",
    "    \"\"\"\n",
    "    This algorithm computes the smoothing parameter eta_epsilon(ZZ).\n",
    "    * Input:\n",
    "        - epsilon: a very small positive real number. E.g., we can set epsilon=2^(-71) or epsilon=2^(-84)\n",
    "    * Output:\n",
    "        - smoothing parameter eta_epsilon(ZZ), which is denoted by smt_para\n",
    "    \n",
    "    \"\"\"\n",
    "    smt_para=RR(sqrt(ln(2/epsilon)/pi))\n",
    "    #print(\"smt_para=\", smt_para)\n",
    "    return smt_para\n",
    "\n",
    "\n",
    "#======================================================\n",
    "# A TEST CASE\n",
    "epsilon=2^(-84)\n",
    "smoothing_parameter_ZZ(epsilon)\n",
    "\n"
   ]
  },
  {
   "cell_type": "code",
   "execution_count": 465,
   "metadata": {},
   "outputs": [
    {
     "name": "stdout",
     "output_type": "stream",
     "text": [
      "AA=\n",
      "[ 5  4  1  6  6 12  5  8  4  2]\n",
      "[ 0  8 12  9  5  8 11  8  2  1]\n",
      "[ 6  7 11  7  0 11 10 12  0  6]\n",
      "[12  1  0  7  9  2  9  2  3  0]\n"
     ]
    },
    {
     "data": {
      "text/plain": [
       "34.5062723214147"
      ]
     },
     "execution_count": 465,
     "metadata": {},
     "output_type": "execute_result"
    }
   ],
   "source": [
    "def smoothing_parameter_q_ary_lattice(AA, q, epsilon):\n",
    "    \"\"\"\n",
    "    This algorithm computes the smoothing parameter eta_epsilon(Lambda_q^{perp}(AA)) for the q-ary lattice Lambda_q^{perp}(AA).\n",
    "    * Input:\n",
    "        - AA; a matrix w.r.t the q-ary lattice Lambda_q^{perp}(AA)\n",
    "        - q: modulus \n",
    "        - epsilon: a very small positive real number. E.g., we can set epsilon=2^(-71) or epsilon=2^(-84)\n",
    "    * Output:\n",
    "        - smoothing parameter eta_epsilon(Lambda_q^{perp}(AA)), which is denoted by smt_para\n",
    "    \"\"\"\n",
    "    # Compute the basis for the q-ary lattice Lambda_q^{perp}(AA):\n",
    "    BB=perpendicular_q_ary_basis(AA, q)\n",
    "    # Dimension of BB (which is a square matrix)\n",
    "    n=BB.nrows()\n",
    "    #print(\"n=\",n)\n",
    "    \n",
    "    #Compute Gram Schmidt of BB\n",
    "    BB_gs=BB.gram_schmidt()[0]\n",
    "    #print(\"||BB_gs||=\", BB_gs.norm())\n",
    "    #print(\"factor=\", RR(sqrt(ln(2*n*(1+1/epsilon))/pi)))\n",
    "    \n",
    "    # Compute smoothing parameter of Lambda_q^{perp}(AA) using [MP12,Lemma 2.3] (also [GPV08, Theorem 3.1]) \n",
    "    smt_para=RR(BB_gs.norm()*sqrt(ln(2*n*(1+1/epsilon))/pi))   \n",
    "    #print(\"smt_para=\",smt_para)\n",
    "    return smt_para\n",
    "\n",
    "\n",
    "#======================================================\n",
    "# A TEST CASE\n",
    "\n",
    "q=13\n",
    "m=4\n",
    "n=10\n",
    "epsilon=2^(-80)\n",
    "\n",
    "ZZq=IntegerModRing(q)\n",
    "\n",
    "AA=random_matrix(ZZq, m, n)\n",
    "print(\"AA=\")\n",
    "print(AA)\n",
    "\n",
    "smoothing_parameter_q_ary_lattice(AA,q,epsilon)\n"
   ]
  },
  {
   "cell_type": "code",
   "execution_count": 469,
   "metadata": {},
   "outputs": [
    {
     "name": "stdout",
     "output_type": "stream",
     "text": [
      "s= 3.98569482160776\n",
      "AA=\n",
      "[ 7  1| 6 11 11  1  2 11  3  9 12  8  3  5  5 11 10  8  5 10  7  5]\n",
      "[11  4|12  5  8  4  3  3 11 11  2  6  0  5  8  2  0  2  4  2 10 10]\n",
      "[ 2  5| 4  6 11  4 12  8  1  6  1  5  2  5 10  0  4  3  8 12  2 11]\n",
      "[ 0  5| 4  5  4  0  3  7  7  0  3  3  5  9  8  0  0  7  5  3  0  7]\n",
      "[ 5  6| 1 10 11  3 12 10  2  1 12 12  4  4  4 10  4  2  4 11  6 10]\n",
      "HH=\n",
      "[ 0  4  5  6  2]\n",
      "[ 2  1  0 11  2]\n",
      "[ 5 11  5 10  4]\n",
      "[12 10  7  1  6]\n",
      "[10  3  9  4  7]\n",
      "TT=\n",
      "[ 3 -1  2 -4 -4 -6  5  1  0 -3  4 -6 -3  9  3 -1  4  0 -5  3]\n",
      "[-1 -4  1  1  4 13  4  3 -7 -3  2 -1 -4  3 -7 -5 -5 -6 -3  3]\n"
     ]
    }
   ],
   "source": [
    "#==========================================================\n",
    "def gen_trap_mp12(n, q, mt, option_HH, epsilon):\n",
    "    \"\"\"\n",
    "    * Input:\n",
    "        - n: number of rows (security parameter) of AA\n",
    "        - q: modulus, q should be prime \n",
    "        - mt: a positive integer mt>=1\n",
    "          Then number of columns m=mt+n*k, where k=ceil(log_2(q)), \n",
    "        - option_HH: \n",
    "                + If option_HH=0 (default) then HH is zero matrix. \n",
    "                + If option_HH=1 then HH=II, identity matrix\n",
    "                + Otherwise, HH is chosen to be invertible in ZZq.   \n",
    "        - epsilon: epsilon in the smoothing parameter eta_{epsilon}(ZZ) for ZZ.\n",
    "          We can choose epsilon=2^(-71) or epsilon=2^(-84)\n",
    "    * Output: \n",
    "        - A matrix AA and its trapdoor TT via MP12:\n",
    "    \"\"\"\n",
    "    # Initial\n",
    "    ZZq = IntegerModRing(q)\n",
    "    k=ceil(log(q,2))\n",
    "    w=n*k\n",
    "    m=mt+w\n",
    "    #print(\"mt=\", mt)\n",
    "    #print(\"nk=\", n*k)\n",
    "    \n",
    "    #Generate (n x mt)-matrix AAt from ZZq\n",
    "    AAt = random_matrix(ZZq,n,mt)\n",
    "    #print(\"AAt=\")\n",
    "    #print(AAt)\n",
    "    \n",
    "    #Generate gadget matrix GG\n",
    "    GG=gadget_matrix(n, q)\n",
    "    #print(\"GG=\")\n",
    "    #print(GG)\n",
    "    \n",
    "    #Generate center for Discrete Gaussian\n",
    "    cc=zero_vector(ZZ,w)\n",
    "    #print(\"cc=\")\n",
    "    #print(cc)\n",
    "    \n",
    "    \n",
    "    # Choose Gaussian parameter s for Discrete Gaussian w.r.t. smoothing parameter\n",
    "    # Here we choose s= smoothing parameter of ZZ (i.e., s=\\eta_{epsilon}(ZZ))\n",
    "    # (See GPV08, at the beginning of Section 2)\n",
    "    s=smoothing_parameter_of_ZZ(epsilon)\n",
    "    print(\"s=\", s)\n",
    "    \n",
    "    #sigma= ceil(sqrt(n))#sqrt(log(2+2:e,e):pi)\n",
    "    #print(\"sigma=\",sigma)\n",
    "    \n",
    "    #Generate trapdoor via D_{ZZ^w,s,cc}\n",
    "    TT=Matrix([sample_d(ZZ^w,s,cc) for i in range(mt)])\n",
    "    #print(\"TT=\")\n",
    "    #print(TT)\n",
    "    \n",
    "    #Generate n-dimensional matrix H that is invertible in ZZ_q\n",
    "    if option_HH==0:\n",
    "        HH=zero_matrix(ZZq,n)\n",
    "    elif option_HH==1:\n",
    "        HH=identity_matrix(ZZq,n)\n",
    "    else:\n",
    "        HH=random_invertible_matrix(q,n)\n",
    "    #print(\"HH=\")\n",
    "    #print(HH)\n",
    "    \n",
    "    # Change into ZZ\n",
    "    HHz=HH.change_ring(ZZ)\n",
    "    GGz=GG.change_ring(ZZ)\n",
    "    AAtz=AAt.change_ring(ZZ)\n",
    "    \n",
    "    # Compute BBz=HHz*GGz-AAtz*TT in ZZ and take modulo q\n",
    "    BBz=HHz*GGz-AAtz*TT\n",
    "    #print(\"BBz=\")\n",
    "    #print(BBz)\n",
    "    \n",
    "    BBz=BBz%q\n",
    "    \n",
    "    # Change into ZZq\n",
    "    BB=BBz.change_ring(ZZq)        \n",
    "    #print(\"BB=\")\n",
    "    #print(BB)\n",
    "    \n",
    "    # Set AA=[AAt|BB]\n",
    "    AA=AAt.augment(BB, subdivide=True)\n",
    "    #print(\"AA=\")\n",
    "    #print(AA)\n",
    "    \n",
    "    return (AA, HH, TT, q)\n",
    "\n",
    "\n",
    "#=======================================================\n",
    "# A TEST CASE\n",
    "n=5\n",
    "q=13\n",
    "mt=2\n",
    "option_HH=2\n",
    "epsilon=2^(-71)\n",
    "(AA,HH,TT, q)=gen_trap_mp12(n,q,mt,option_HH, epsilon)\n",
    "print(\"AA=\")\n",
    "print(AA)\n",
    "print(\"HH=\")\n",
    "print(HH)\n",
    "print(\"TT=\")\n",
    "print(TT)\n",
    "#==========================================================  "
   ]
  },
  {
   "cell_type": "code",
   "execution_count": 430,
   "metadata": {},
   "outputs": [
    {
     "name": "stdout",
     "output_type": "stream",
     "text": [
      "3.98569482160776\n"
     ]
    }
   ],
   "source": [
    "epsi=RR(2^(-71))\n",
    "r=RR(sqrt(ln(2/epsi)/pi))\n",
    "print(r)"
   ]
  },
  {
   "cell_type": "code",
   "execution_count": null,
   "metadata": {},
   "outputs": [],
   "source": []
  },
  {
   "cell_type": "code",
   "execution_count": 423,
   "metadata": {},
   "outputs": [
    {
     "name": "stdout",
     "output_type": "stream",
     "text": [
      "AA=\n",
      "[11  8  8  6 11  1  5  8  3 10]\n",
      "[11  2 10  4  5  4 10 10  3  8]\n",
      "[ 9 11  0  4  7  6  8  6 11  6]\n",
      "[12  7  1  9  2  9  7  9  8 10]\n"
     ]
    },
    {
     "data": {
      "text/plain": [
       "[ 1  0  0  0  0  0  4  1 11 11]\n",
       "[ 0  1  0  0  0  0  7  1  5  9]\n",
       "[ 0  0  1  0  0  0  7 10  7  9]\n",
       "[ 0  0  0  1  0  0  4 10  1  6]\n",
       "[ 0  0  0  0  1  0  2  3  3  5]\n",
       "[ 0  0  0  0  0  1  5 12  7  0]\n",
       "[-----------------------------]\n",
       "[ 0  0  0  0  0  0 13  0  0  0]\n",
       "[ 0  0  0  0  0  0  0 13  0  0]\n",
       "[ 0  0  0  0  0  0  0  0 13  0]\n",
       "[ 0  0  0  0  0  0  0  0  0 13]"
      ]
     },
     "execution_count": 423,
     "metadata": {},
     "output_type": "execute_result"
    }
   ],
   "source": [
    "def perpendicular_q_ary_basis(AA, q):\n",
    "    \"\"\"\n",
    "    *Input:\n",
    "        - AA: A (n x m)-matrix in ZZq\n",
    "        - q: a modulus\n",
    "    *Output: \n",
    "        - A basis CC for the q-ary lattice Lambda_q^{perp}(AA) generated by the matrix AA in modulo q, \n",
    "        i.e., the lattice L(AA)={x^m in ZZ^m: xx.AA=0 mod q}\n",
    "        \n",
    "    \"\"\"\n",
    "    # number of rows in AA\n",
    "    n=AA.nrows()\n",
    "    m=AA.ncols()\n",
    "    \n",
    "    #print(\"m=\",m)\n",
    "    #print(\"n=\",n)\n",
    "    \n",
    "    #Compute “left kernel” (or left_nullspace, i.e. the space of vectors ww such that ww.AA=0\n",
    "    #left_kernel_of_AA=kernel(AA.transpose()) #or \n",
    "    #left_kernel_of_AA=kernel(AA.transpose()) \n",
    "    # Note that, we have to perform on input AA.transpose() instead of AA\n",
    "    WW=Matrix(kernel(AA.transpose()) .basis()).change_ring(ZZ)\n",
    "    #print(\"WW=\")\n",
    "    #print(WW)\n",
    "    \n",
    "    # Generate matrix q*IIn where IIn is the identity matrix of dimension n\n",
    "    qIIn=q*identity_matrix(ZZ,n) \n",
    "    #print(\"q_IIn=\")\n",
    "    #print(q_IIn)\n",
    "    \n",
    "    # Generate (n x (m-n))-zero matrix KK\n",
    "    KK=zero_matrix(ZZ,n, m-n)\n",
    "    #print(\"KK=\")\n",
    "    #print(KK)\n",
    "    \n",
    "    # Concatenate KK with qIIn\n",
    "    BB=KK.augment(qIIn, subdivide=True).change_ring(ZZ)\n",
    "    #print(\"BB=\")\n",
    "   # print(BB)\n",
    "    \n",
    "    # The basis is:\n",
    "    CC=WW.stack(BB, subdivide=True)  \n",
    "    #print(\"CC=\")\n",
    "    #print(CC)\n",
    "    \n",
    "    return CC\n",
    "\n",
    "\n",
    "#=======================================================\n",
    "# A TEST CASE\n",
    "q=13\n",
    "n=4\n",
    "m=10\n",
    "\n",
    "ZZq=IntegerModRing(q)\n",
    "AA=random_matrix(ZZq, n, m)\n",
    "#AA_hnf=AA.echelon_form()\n",
    "#print(\"AA_hnf=\")\n",
    "#print(AA_hnf)\n",
    "    \n",
    "print(\"AA=\")\n",
    "print(AA)\n",
    "perpendicular_q_ary_basis(AA, q)\n"
   ]
  },
  {
   "cell_type": "code",
   "execution_count": null,
   "metadata": {},
   "outputs": [],
   "source": []
  },
  {
   "cell_type": "code",
   "execution_count": 243,
   "metadata": {},
   "outputs": [
    {
     "name": "stdout",
     "output_type": "stream",
     "text": [
      "k= 8\n",
      "LL= [4 2 2 4]\n",
      "[1 2 1 2]\n",
      "[1 2 0 0]\n",
      "[4 3 2 3]\n",
      "KK= [0 0 0 0]\n",
      "[0 0 0 0]\n",
      "[0 0 0 0]\n",
      "[0 0 0 0]\n"
     ]
    }
   ],
   "source": [
    "def modulo_inverse_matrix(matrix, modulus):\n",
    "    \"\"\"\n",
    "    * Input: \n",
    "        - matrix: A matrix e.g. AA\n",
    "        - modulus: A modulus e.g., q\n",
    "    * Output:\n",
    "        - The inverse matrix modulo q of matrix AA if modulus=q and matrix = AA \n",
    "    \"\"\"\n",
    "    AA=matrix\n",
    "    q=modulus\n",
    "    \n",
    "     # determinant of the matrix AA, i.e., det(AA)\n",
    "    determinant=AA.det()   \n",
    "    #print(\"determinant=\", determinant)\n",
    "    \n",
    "    # inverse of the matrix AA\n",
    "    inverse_of_AA=AA.inverse() \n",
    "    #print(\"inverse_of_AA=\")\n",
    "    #print(inverse_of_AA)\n",
    "    \n",
    "    # inverse modulo q of det(AA) \n",
    "    det_inverse=inverse_mod(q, determinant)                    \n",
    "    #print(\"det_inverse=\", det_inverse)\n",
    "    \n",
    "     # inverse modulo q of matrix AA\n",
    "    inverse_of_AA_in_modulo_q=(det_inverse*determinant*inverse_of_AA)%q       \n",
    "    #print(\"inverse_of_AA_in_modulo_q=\")\n",
    "    #print(inverse_of_AA_in_modulo_q)\n",
    "    \n",
    "    return inverse_of_AA_in_modulo_q\n",
    "\n",
    "#=======================================================\n",
    "# A TEST CASE\n",
    "q=5\n",
    "n=4\n",
    "k=8\n",
    "inverse_mod(q,k)\n",
    "print(\"k=\",k)\n",
    "LL=random_invertible_matrix(5, 4)\n",
    "print(\"LL=\",LL)\n",
    "\n",
    "KK=modulo_inverse_matrix(LL, q)\n",
    "print(\"KK=\",KK)"
   ]
  },
  {
   "cell_type": "code",
   "execution_count": 244,
   "metadata": {},
   "outputs": [
    {
     "data": {
      "text/plain": [
       "10.037214056780215"
      ]
     },
     "execution_count": 244,
     "metadata": {},
     "output_type": "execute_result"
    }
   ],
   "source": [
    "def operator_norm(matrix):\n",
    "    \"\"\"\n",
    "    * Input:\n",
    "        - a matrix, say, LL\n",
    "        -\n",
    "    * Output:Compute the operator norm (or sup norm) of matrix, say AA, defined as s_1(LL)=sup(||LLuu||/||uu||).\n",
    "    * Steps:\n",
    "        - Trasform the base-ring of the matrix into the RDF ring\n",
    "        - Perform the Singular Value Decomposition to get LL=AA.BB.CC in which BB is a diagonal matrix and s_1(LL)=BB[0][0]. \n",
    "    \"\"\"\n",
    "    matrix=matrix.change_ring(RDF)\n",
    "    #print(\"matrix=\")\n",
    "    #print(matrix)\n",
    "    \n",
    "    # Singular Value Decomposition of \n",
    "    (AA,BB,CC)=matrix.SVD()\n",
    "    #print(\"AA=\")\n",
    "    #print(AA)\n",
    "    #print(\"BB=\")\n",
    "    #print(BB)\n",
    "    #print(\"CC=\")\n",
    "    #print(CC)\n",
    "   \n",
    "    return BB[0][0]\n",
    "\n",
    "\n",
    "#=======================================================\n",
    "# A TEST CASE\n",
    "#matrix= Matrix([[1, 4],[5, 6]])\n",
    "matrix=random_matrix(ZZ,3,5)\n",
    "operator_norm(matrix)"
   ]
  },
  {
   "cell_type": "code",
   "execution_count": 245,
   "metadata": {},
   "outputs": [
    {
     "name": "stdout",
     "output_type": "stream",
     "text": [
      "q= 8\n",
      "k= 3\n",
      "gg= (1, 2, 4)\n",
      "u= 5\n",
      "xx= (1, -2, 14)\n",
      "gg*xx mod 8 = 5\n"
     ]
    },
    {
     "data": {
      "image/png": "[encoded data removed]",
      "text/plain": [
       "Graphics object consisting of 1 graphics primitive"
      ]
     },
     "execution_count": 245,
     "metadata": {},
     "output_type": "execute_result"
    }
   ],
   "source": [
    "#======= This algorithm is used when q IS EXACTLY a power of 2, i.e, q=2^k ========\n",
    "def sample_from_gadget_vector_power_of_2(q, u, n):\n",
    "    \"\"\"\n",
    "    This algorithm is used when q IS EXACTLY a power of 2, i.e, q=2^k.\n",
    "    It implements the second approach of Gaussian sampling in \n",
    "                [MP12, Section 4.1] for the case q=2^k\n",
    "    * Input:\n",
    "        - q: modulus which is q=2^k, k is positive integer. \n",
    "             Remember that the dimension k of gaget vector gg=(1, 2,..., 2^{k-1})\n",
    "        - u: a coset, which is an integer in {0,...,q-1}\n",
    "        - n: number of rows in         \n",
    "                                         |gg  0   0  ...   0 |\n",
    "                                         |0   gg  0  ...   0 |\n",
    "                      Gadget matrix GG=  |0   0   gg ...   0 |    \n",
    "                                         |...................|\n",
    "                                         |0   0    0 ...   gg|\n",
    "    * Output: a vector xx in ZZ^k s.t. <gg,xx>=u mod q, where gg=(1 2 4 ... 2^{k-1})\n",
    "    \"\"\"\n",
    "    #Gausian parameter which is an optimal bound on the smoothing parameter of \\Lambda^{perp}(GG) \n",
    "    sigma=2*sqrt(log(n,2))\n",
    "    k=log(q,2)\n",
    "    #\n",
    "    list_of_vector_x=[]\n",
    "    \n",
    "    # sample z_i form D_{ZZ,s,0} and compute x_i=2z_i+u. Then, assign -z_i to u.\n",
    "    for i in range(k):\n",
    "        z_i=sample_z(s,0)\n",
    "        x_i=2*z_i+u\n",
    "        u=-z_i\n",
    "        list_of_vector_x.append(x_i)\n",
    "        \n",
    "    # return x = vector(list_of_vector_x)\n",
    "    return vector(list_of_vector_x)    \n",
    "\n",
    "\n",
    "#=======================================================\n",
    "# A TEST CASE\n",
    "q=8\n",
    "n=10\n",
    "k=log(8,2)\n",
    "print(\"q=\",q)\n",
    "print(\"k=\",k)\n",
    "\n",
    "gg=gadget_vector(k)\n",
    "print(\"gg=\", gg) \n",
    "u=randint(0,q-1)\n",
    "print(\"u=\",u)\n",
    "xx=sample_from_gadget_vector_power_of_2(q, u, n)\n",
    "print(\"xx=\", xx) \n",
    "\n",
    "print(\"gg*xx mod\", q, \"=\", gg*xx%q)    \n",
    "histogram([sample_from_gadget_vector_power_of_2(q,u, n) for _ in range(11)])"
   ]
  },
  {
   "cell_type": "code",
   "execution_count": 246,
   "metadata": {},
   "outputs": [
    {
     "name": "stdout",
     "output_type": "stream",
     "text": [
      "bits_of_q= [1, 0, 0, 0, 0, 0, 0, 0, 0, 0, 1]\n"
     ]
    },
    {
     "data": {
      "text/plain": [
       "[ 2  0  0  0  0  0  0  0  0  0  1]\n",
       "[-1  2  0  0  0  0  0  0  0  0  0]\n",
       "[ 0 -1  2  0  0  0  0  0  0  0  0]\n",
       "[ 0  0 -1  2  0  0  0  0  0  0  0]\n",
       "[ 0  0  0 -1  2  0  0  0  0  0  0]\n",
       "[ 0  0  0  0 -1  2  0  0  0  0  0]\n",
       "[ 0  0  0  0  0 -1  2  0  0  0  0]\n",
       "[ 0  0  0  0  0  0 -1  2  0  0  0]\n",
       "[ 0  0  0  0  0  0  0 -1  2  0  0]\n",
       "[ 0  0  0  0  0  0  0  0 -1  2  0]\n",
       "[ 0  0  0  0  0  0  0  0  0 -1  1]"
      ]
     },
     "execution_count": 246,
     "metadata": {},
     "output_type": "execute_result"
    }
   ],
   "source": [
    "def basis_of_gadget_vector(q):\n",
    "    \"\"\"\n",
    "    This algorithm is to generate the basis for the q-ary lattice Lambda_q^{perp}(gg),\n",
    "    where gg=[1 2 4 ... 2^{k-1}] is the gadget vector. \n",
    "    \n",
    "    * Input:\n",
    "        - q: modulus\n",
    "    * Output:\n",
    "        - basis SS_k for the q-ary lattice Lambda_q^{perp}(gg) w.r.t \n",
    "          the gadget vector gg=[1 2 4 ... 2^{k-1}], with k=ceil(log_2(q))\n",
    "    \n",
    "    \"\"\"\n",
    " \n",
    "    # bit size of q\n",
    "    k=ceil(log(q,2))\n",
    "    \n",
    "    # bit decomposition of q\n",
    "    bits_of_q=q.bits()\n",
    "    # print(\"bits_of_q=\", bits_of_q)\n",
    "    \n",
    "    # Initialize SS_k as a zero matrix in ZZ^{k x k}\n",
    "    SSk=zero_matrix(ZZ, k, k)\n",
    "    # print(\"SS_k=\")\n",
    "    # print(SSk)\n",
    "    \n",
    "    # For each column i\n",
    "    for j in range(k-1):\n",
    "        SSk[j,j]=2\n",
    "        SSk[j+1,j]=-1\n",
    "        \n",
    "    # For the last column, i.e., j=k-1 \n",
    "    # if q=2^k, we set the (k,k)-th element to be 2\n",
    "    if q==2^k:\n",
    "            SSk[k-1,k-1]=2\n",
    "    # if q!=2^k , we change the last column by the list bits_of_q\n",
    "    else:\n",
    "        for i in range(k):\n",
    "            SSk[i,k-1]=bits_of_q[i]\n",
    "    # print(\"SS_k=\")\n",
    "    # print(SSk)\n",
    "    \n",
    "    return SSk\n",
    "    \n",
    "#=======================================================\n",
    "# A TEST CASE\n",
    "\n",
    "q=1025\n",
    "bits_of_q=q.bits()\n",
    "print(\"bits_of_q=\", bits_of_q)\n",
    "basis_of_gadget_vector(q)"
   ]
  },
  {
   "cell_type": "code",
   "execution_count": 247,
   "metadata": {},
   "outputs": [
    {
     "name": "stdout",
     "output_type": "stream",
     "text": [
      "SS=\n",
      "[ 2  0  0  1| 0  0  0  0| 0  0  0  0| 0  0  0  0]\n",
      "[-1  2  0  1| 0  0  0  0| 0  0  0  0| 0  0  0  0]\n",
      "[ 0 -1  2  0| 0  0  0  0| 0  0  0  0| 0  0  0  0]\n",
      "[ 0  0 -1  1| 0  0  0  0| 0  0  0  0| 0  0  0  0]\n",
      "[-----------+-----------+-----------+-----------]\n",
      "[ 0  0  0  0| 2  0  0  1| 0  0  0  0| 0  0  0  0]\n",
      "[ 0  0  0  0|-1  2  0  1| 0  0  0  0| 0  0  0  0]\n",
      "[ 0  0  0  0| 0 -1  2  0| 0  0  0  0| 0  0  0  0]\n",
      "[ 0  0  0  0| 0  0 -1  1| 0  0  0  0| 0  0  0  0]\n",
      "[-----------+-----------+-----------+-----------]\n",
      "[ 0  0  0  0| 0  0  0  0| 2  0  0  1| 0  0  0  0]\n",
      "[ 0  0  0  0| 0  0  0  0|-1  2  0  1| 0  0  0  0]\n",
      "[ 0  0  0  0| 0  0  0  0| 0 -1  2  0| 0  0  0  0]\n",
      "[ 0  0  0  0| 0  0  0  0| 0  0 -1  1| 0  0  0  0]\n",
      "[-----------+-----------+-----------+-----------]\n",
      "[ 0  0  0  0| 0  0  0  0| 0  0  0  0| 2  0  0  1]\n",
      "[ 0  0  0  0| 0  0  0  0| 0  0  0  0|-1  2  0  1]\n",
      "[ 0  0  0  0| 0  0  0  0| 0  0  0  0| 0 -1  2  0]\n",
      "[ 0  0  0  0| 0  0  0  0| 0  0  0  0| 0  0 -1  1]\n"
     ]
    }
   ],
   "source": [
    "\n",
    "def basis_of_gadget_matrix(n,q):\n",
    "    \"\"\"\n",
    "    This algorithm is to generate the basis for the q-ary lattice Lambda_q^{perp}(GG), where\n",
    "                           |gg  0   0  ...   0 |\n",
    "                           |0   gg  0  ...   0 |\n",
    "                      GG=  |0   0   gg ...   0 |    \n",
    "                           |...................|\n",
    "                           |0   0    0 ...   gg|,\n",
    "     where gg=[1 2 4 ... 2^{k-1}] is the gadget vector. \n",
    "     \n",
    "    * Input:\n",
    "        - n: number of rows of the gadget matrix GG\n",
    "        - q: modulus\n",
    "    * Output:\n",
    "        - basis SS for the q-ary lattice Lambda_q^{perp}(GG).\n",
    "    \"\"\"\n",
    "     \n",
    "    # Conpute a basis SSk for the q-ary lattice Lambda_q^{perp}(gg), \n",
    "    # where the gadget vector gg=[1 2 4 ... 2^{k-1}]\n",
    "    SSk=basis_of_gadget_vector(q)\n",
    "    IIn=identity_matrix(ZZ,n)\n",
    "    \n",
    "    # SS is the tensor product of IIn with SSk\n",
    "    SS=IIn.tensor_product(SSk)\n",
    "    return SS\n",
    "    \n",
    "#=======================================================\n",
    "# A TEST CASE\n",
    "\n",
    "q=11\n",
    "n=4\n",
    "SS=basis_of_gadget_matrix(n,q)\n",
    "print(\"SS=\")\n",
    "print(SS)"
   ]
  },
  {
   "cell_type": "code",
   "execution_count": null,
   "metadata": {},
   "outputs": [],
   "source": []
  },
  {
   "cell_type": "code",
   "execution_count": 472,
   "metadata": {},
   "outputs": [
    {
     "name": "stdout",
     "output_type": "stream",
     "text": [
      "k= 4\n",
      "s= 4.33059187790484\n",
      "uu= (11, 4, 11, 3, 0)\n"
     ]
    },
    {
     "data": {
      "text/plain": [
       "(-17, -330, -199, 199, 155, -192, 46, 65, -123, -169, 133, -31, -22, 215, -117, 25, -16, 62, 153, -227, 262, -94)"
      ]
     },
     "execution_count": 472,
     "metadata": {},
     "output_type": "execute_result"
    }
   ],
   "source": [
    "def sample_d_mp12(TT,AA,HH,uu,q, epsilon):\n",
    "    \"\"\"\n",
    "    This algorithm is to sample vector from discrete Gaussian over q-ary lattice Lambda^{uu}^{perp}(AA);\n",
    "    * Input:\n",
    "        - TT: An (mt x w)-matrix trapdoor for matrix AA (TT is exactly RR in [MP12]) in ZZq.\n",
    "          Here w=n*k, where k=ceil(log_2(q))\n",
    "        - AA: A random (n x m)-matrix in ZZq\n",
    "        - HH: An invertible (n x n)-matrix in ZZ_q (it is called the tag w.r.t AA, TT).\n",
    "          However, we compute inverse of HH in ZZ instead of in ZZ_q. \n",
    "          If HH=zero_matrix then the algorithm will be stopped.\n",
    "        - uu: An n-vector in ZZq\n",
    "        - q: A modulus for the ring ZZq we are working in\n",
    "        - epsilon: \n",
    "    * Output: \n",
    "        - A (pseudo-random) vector xx in the q-ary lattice Lambda_{uu}^{perp}(AA) \n",
    "          sampled from D_{Lambda_{uu^{perp}(AA)}\n",
    "    \"\"\"\n",
    "    # Check if HH is invertible\n",
    "    if HH.is_invertible()==False:\n",
    "        print(\"The algorithm does not work in this case. Please choose the tag matrix to be invertible.\")\n",
    "        return ValueError\n",
    "    # Dimensions, sizes \n",
    "    n=AA.nrows()\n",
    "    #print(\"n=\", n)\n",
    "    m=AA.ncols()   \n",
    "    #print(\"m=\", m)\n",
    "    mt=TT.nrows()   \n",
    "    #print(\"mt=\", mt)\n",
    "    w=TT.ncols()         # Note that, m=mt+w\n",
    "    #print(\"w=\", w)\n",
    "    \n",
    "    ZZq = IntegerModRing(q)\n",
    " \n",
    "    # operator norm of TT\n",
    "    s1_TT=operator_norm(TT)\n",
    "    \n",
    "    # Gaussian parameters\n",
    "    r=smoothing_parameter_of_ZZ(epsilon) # Here we choose r= smoothing parameter of ZZ (i.e., s=\\eta_{epsilon}(ZZ))\n",
    "                                         # (See GPV08, at the beginning of Section 2)\n",
    "    sigma_GG = 5                 # sigma_GG: Gaussian parameter used to sample over the q-ary \n",
    "                                 # lattice Lambda_q^{perp}(GG). \n",
    "                                 # Via [MP12, Algorithm 3], sqrt(sigma_GG)>=2 or sigma_GG=sqrt(5). \n",
    "    sigma = 7*(s1_TT^2+1)\n",
    "    sigma_pp = 2*(s1_TT^2+1)\n",
    "    r_GG=r*sqrt(sigma_GG)\n",
    "    r_pp = r*sqrt(sigma_pp)\n",
    "  \n",
    "    # Generate gadget matrix GG\n",
    "    GG=gadget_matrix(n, q)\n",
    "    #GGz=GG.change_ring(ZZ)\n",
    "    #print(\"GG=\")\n",
    "    #print(GG)\n",
    "\n",
    "       \n",
    "    # Change ring for uu\n",
    "    uuz=uu.change_ring(ZZ)  # We have to change ring. Otherwise, it will get an error notification.\n",
    "    #print(\"uuz=\",uuz)\n",
    "     \n",
    "    \n",
    "    #Compute [TT^t I]^t[TT^t I] \n",
    "    IIw=identity_matrix(ZZ,w)\n",
    "    KK=(TT.transpose()).augment(IIw)\n",
    "    #print(\"KK=\")\n",
    "    #print(KK)\n",
    "        \n",
    "    # Stack of TT over IIw, i.e., matrix [TT^t|IIw]^t\n",
    "    TT_over_IIw=TT.stack(IIw)\n",
    "    \n",
    "    # Choose pp from D_{ZZ^m,rp}====\n",
    "    cc=zero_vector(ZZ,m)        # center vector\n",
    "    pp=sample_d(ZZ^m,r_pp,cc)\n",
    "    # print(\"pp=\", pp)\n",
    "    pp1=vector([pp[i] for i in range(mt)])\n",
    "    pp2=vector([pp[i] for i in [mt..m-1]])\n",
    "    # print(\"pp1=\", pp1)\n",
    "    # print(\"pp2\", pp2)\n",
    "    \n",
    "    # Take matrix AA bar from matrix AA\n",
    "    AAt=AA[[0..n-1],[0..mt-1]]\n",
    "    AAtz= AAt.change_ring(ZZ)\n",
    "    # print(\"AAt=\");print(AAt)\n",
    "   \n",
    "    # vector ww bar\n",
    "    wwt=(AAtz*(pp1-TT*pp2))%q\n",
    "    ww=(GG*pp2)%q\n",
    "    # wwtz=wwt.change_ring(ZZ)\n",
    "    # wwz=ww.change_ring(ZZ)\n",
    "    #print(\"wwtz=\",wwt)\n",
    "    #print(\"wwz=\",ww)\n",
    "    \n",
    "    #Compute inverse of the tag HH\n",
    "    HH_inv=HH.inverse() # If we use HH_inv=modulo_inverse_matrix(HH, q) it will be false\n",
    "    \n",
    "    #print(\"HH_inv=\")\n",
    "    #print (HH_inv)\n",
    "    HH_invz=HH_inv.change_ring(ZZ)\n",
    "    vv=(HH_invz*(uuz-wwt)-ww)%q \n",
    "    # vv=vv.change_ring(ZZq)\n",
    "    #print(\"vv=\",vv)\n",
    "    \n",
    "    # Find a vector tt in ZZ^{w} such that GGz*tt=vvz. \n",
    "    # We can easily see that tt=bit_decomposition of vvz, computed as follows:\n",
    "    # each element of vvz (which is in ZZq) will have at most k=ceil(log(q,2)) bits.\n",
    "    # Then if any element does not have enough k bits, then we append zeros to get k bits. \n",
    "    bit_decomp_of_vv=[]\n",
    "    for i in range(len(vv)):\n",
    "        list_of_bits=vv[i].bits()\n",
    "        while len(list_of_bits)<k:\n",
    "            list_of_bits.append(0)\n",
    "        # print(\"vv[i].bits()=\",list_of_bits)\n",
    "        for j in range(k):\n",
    "            bit_decomp_of_vv.append(list_of_bits[j])\n",
    "    # print(\"bit_decomp_of_vv=\",bit_decomp_of_vv) \n",
    "    tt=vector(bit_decomp_of_vv)\n",
    "    # print(\"tt=\",tt)\n",
    "    # print(vv==GG*tt) #to check if GG*tt=vv\n",
    "    \n",
    "    # Basis SS for q-ary lattice w.r.t GG\n",
    "    SS=basis_of_gadget_matrix(n,q)\n",
    "    # print(\"SS=\")\n",
    "    # print(SS)\n",
    "    \n",
    "    # EE=GGz*SS%q\n",
    "    # print(\"EE=\")\n",
    "    # print(EE)\n",
    "    \n",
    "    # Choose zz from Lamda_vv^{\\perp}(GG) using Discrete Gaussian of parameter r*sqrt(sigma_GG)\n",
    "    yy=sample_d(SS.transpose(), r_GG, -tt) # Note that, we input SS.transpose() instead of SS\n",
    "    #print(\"yy=\")\n",
    "    #print(yy)\n",
    "    \n",
    "    #print(\"GG*yy=\", (GG*yy)%q)\n",
    "    \n",
    "    zz=yy+tt\n",
    "    #print(\"zz=\")\n",
    "    #print(zz)\n",
    "    \n",
    "    # Lattice vector that is sampled from D_{Lambda_{uu^{perp}(AA)} will be:\n",
    "    xx= pp+TT_over_IIw*zz\n",
    "    \n",
    "    #print(\"AA*xx=\", (AA*xx)%q)\n",
    "    return xx\n",
    "\n",
    "\n",
    "#=======================================================\n",
    "# A TEST CASE\n",
    "n=5\n",
    "q=13\n",
    "mt=2\n",
    "option_HH=3\n",
    "k=ceil(log(q,2))\n",
    "print(\"k=\",k)\n",
    "epsilon=2^(-84)\n",
    "\n",
    "(AA,HH,TT, q)=gen_trap_mp12(n,q,mt, option_HH, epsilon)\n",
    "\n",
    "ZZq = IntegerModRing(q)\n",
    "uu=random_vector(ZZq,n)\n",
    "print(\"uu=\", uu)\n",
    "\n",
    "sample_d_mp12(TT,AA,HH,uu,q, epsilon)    \n",
    "    "
   ]
  },
  {
   "cell_type": "code",
   "execution_count": 251,
   "metadata": {},
   "outputs": [],
   "source": []
  },
  {
   "cell_type": "code",
   "execution_count": 470,
   "metadata": {},
   "outputs": [
    {
     "name": "stdout",
     "output_type": "stream",
     "text": [
      "k= 4\n",
      "w= 20\n",
      "m= 22\n",
      "s= 4.33059187790484\n",
      "uu= (0, 7, 7, 8, 9)\n",
      "s_new= 73.1367246272188\n",
      "True\n"
     ]
    },
    {
     "data": {
      "text/plain": [
       "'[  73 -108 -322  158 -100  132  -33  113  -25 -161   38   28 -258  151   52   -3  -82  -78   11  -54  -52  119]\\n[-133  -84   16  -85  122 -106 -100  151  -25   73    2 -107 -209 -176  -61 -249    9  -27   10  -24  -38  115]\\n[ -10  -11 -171 -223   10  270  125    7 -270   -3   51 -184    0  219   92 -227  -25 -147   -2   58 -107  199]\\n[-173  190  372 -213  169 -158  313  129   26   75   -3 -121  -84 -221  136   57  268   64  117   74  419   39]\\n[ 107   -5  156 -126  179 -102   48 -199   33  -28 -247 -120  -16   67   80   17   27  109   94   -8    6   78]\\n[   9 -311  191 -117   67   24  -42   76  152 -280  -27   74   99  -27  214   49   29  -95 -227  165 -166   78]\\n[ 109  435 -121 -119   33  167  -51   11 -211 -107   72   -8  254  -69 -190  -10  -70  112  -97  -48 -130  224]\\n[ -51  -37  230  -39 -114   73  -77  -22  207  -43   21   16 -152    7 -169    8   75 -317  154  248 -246 -132]\\n[ 130  388  153   41 -142    0 -124 -120 -143   99 -126  160  -63 -101 -265   72 -194  -11  -14   77  256  306]\\n[ 112  -15  281 -154   -5  120   35 -102 -211 -132   99   61  -85  -81  123  129  121  -59  -67   62 -122 -175]\\n[ -70  152  175   89  195 -109   97   36 -133  -96  -31 -130  -29  126  -66   90  124  -88   61  -80   44   73]\\n[  -8   49   48 -256  -97  159 -396 -179  -28   13  -78  163  -14 -293  130 -144  -82   55 -111  -24   -3 -220]\\n[-301   13 -134   27  326   78   22   62  189    3  157 -186 -116   83  125 -253  110   50  125   48  142 -166]\\n[ 174 -232  -62 -154  135  155   26 -118  -83  137  123  308 -284 -102  -31  402  -33 -115  187  -84  -87  -85]\\n[ 433 -123   97 -324 -251  -59  150  -14   15 -368  -23  209  211  -71   21  -10   41   46 -328 -406  -32  173]\\n[  94   86 -200 -271   26   94   -1   78  -49   22  117   94 -147  -62 -145  132  -46   57  109   60   -4  210]\\n[  93 -289   20  -97 -223  -41 -212 -302 -146  165  169  -17   12  141 -107  123 -366   40   29   88    3  110]\\n[  13 -231  168   66   52 -188   -2 -104  250  -35   41   76   -2 -106  126   52  -70  138 -233   -6  139  152]\\n[-264   21  -57 -108  -62  102 -119  -23   22  -97  157   66  -49 -149 -145   97  -83  258  264  -21  -36 -142]\\n[ 100   88  -66   26  134   79   51    5  134   80  173   97  298 -124  279 -166 -253   75  183  318  -15   40]'"
      ]
     },
     "execution_count": 470,
     "metadata": {},
     "output_type": "execute_result"
    }
   ],
   "source": [
    "def del_trap_mp12(AA, HH, TT, AA_1, HH_new, q, epsilon):\n",
    "    \"\"\"\n",
    "    * Input:\n",
    "        - AA\n",
    "        - AA_1\n",
    "        - HH\n",
    "        - TT\n",
    "        - HH_new: \n",
    "        - q: modulus \n",
    "        - epsilon: \n",
    "        \n",
    "    * Output:\n",
    "        - Output the MP12 trapdoor TT_new for AA_new=[AA|AA_1]\n",
    "    \"\"\"\n",
    "    # Check if HH is invertible\n",
    "    if HH_new.is_invertible()==False:\n",
    "        print(\"The algorithm does not work in this case. Please choose the tag matrix to be invertible.\")\n",
    "        return ValueError\n",
    "    \n",
    "    # Dimensions, sizes \n",
    "    n=AA.nrows()\n",
    "    #print(\"n=\", n)\n",
    "    m=AA.ncols()   \n",
    "    #print(\"m=\", m)\n",
    "    mt=TT.nrows()   \n",
    "    #print(\"mt=\", mt)\n",
    "    w=TT.ncols()         # Note that, m=mt+w\n",
    "    #print(\"w=\", w)   \n",
    "    \n",
    "    # Generate gadget matrix GG\n",
    "    GG=gadget_matrix(n, q)\n",
    "    \n",
    "    # Gaussian parameter\n",
    "    s_new=smoothing_parameter_q_ary_lattice(AA,q,epsilon)\n",
    "    print(\"s_new=\",s_new)\n",
    "    \n",
    "    #print(\"AA=\")\n",
    "    #print(AA)\n",
    "    \n",
    "    # Compute matrix UU=HH_new*GG-AA_1\n",
    "    UU=HH_new*GG-AA_1\n",
    "    UU_in_column_form=UU.transpose()\n",
    "    #print(\"UU=\")\n",
    "    #print(UU)\n",
    "    #print(\"UU_in_column_form=\")\n",
    "    #print(UU_in_column_form)\n",
    "    \n",
    "    # Using sample_d_mp12 to generate tt_new for each column of UU\n",
    "    TT_new=(zero_matrix(ZZ,m, w)).transpose()\n",
    "    #print(\"TT_new=\")\n",
    "    #print(TT_new)\n",
    "    #list_to_matrix=[]\n",
    "    for i in range(w):\n",
    "        tt_new=sample_d_mp12(TT,AA,HH,UU_in_column_form[i],q)\n",
    "        #print(\"tt_new=\")\n",
    "        #print(tt_new)\n",
    "        #print(AA*tt_new==UU_in_column_form[i])\n",
    "        TT_new[i]=tt_new\n",
    "        #list_to_matrix.append(tt_new)\n",
    "        \n",
    "    #TT_new=(Matrix(list_to_matrix)).transpose() # It is a column matrix\n",
    "    #print(\"TT_new=\")\n",
    "    #print(TT_new.str())\n",
    "    \n",
    "    print(AA*TT_new.transpose()==UU)\n",
    "    \n",
    "    return TT_new.str()\n",
    "\n",
    "#=================================================================\n",
    "# A TEST CASE\n",
    "\n",
    "# A TEST CASE\n",
    "n=5\n",
    "q=13\n",
    "mt=2\n",
    "option_HH=3\n",
    "k=ceil(log(q,2))\n",
    "w=n*k\n",
    "print(\"k=\",k)\n",
    "print(\"w=\",w)\n",
    "print(\"m=\",mt+n*k)\n",
    "\n",
    "epsilon=2^(-84)\n",
    "(AA,HH,TT, q)=gen_trap_mp12(n,q,mt, option_HH, epsilon)\n",
    "\n",
    "AA_1=random_matrix(ZZq,n, w)\n",
    "\n",
    "HH_new= random_invertible_matrix(q, n)\n",
    "\n",
    "ZZq = IntegerModRing(q)\n",
    "print(\"uu=\", uu)\n",
    "\n",
    "del_trap_mp12(AA, HH, TT, AA_1, HH_new, q, epsilon)"
   ]
  },
  {
   "cell_type": "code",
   "execution_count": 514,
   "metadata": {},
   "outputs": [
    {
     "ename": "NameError",
     "evalue": "name 'shake_256' is not defined",
     "output_type": "error",
     "traceback": [
      "\u001b[0;31m---------------------------------------------------------------------------\u001b[0m",
      "\u001b[0;31mNameError\u001b[0m                                 Traceback (most recent call last)",
      "\u001b[0;32m<ipython-input-514-e521d201f291>\u001b[0m in \u001b[0;36m<module>\u001b[0;34m\u001b[0m\n\u001b[1;32m      6\u001b[0m \u001b[0;34m\u001b[0m\u001b[0m\n\u001b[1;32m      7\u001b[0m \u001b[0;31m# Instantiate the SHAKE256 object\u001b[0m\u001b[0;34m\u001b[0m\u001b[0;34m\u001b[0m\u001b[0;34m\u001b[0m\u001b[0m\n\u001b[0;32m----> 8\u001b[0;31m \u001b[0mshake\u001b[0m \u001b[0;34m=\u001b[0m \u001b[0mshake_256\u001b[0m\u001b[0;34m.\u001b[0m\u001b[0mnew\u001b[0m\u001b[0;34m(\u001b[0m\u001b[0;34m)\u001b[0m\u001b[0;34m\u001b[0m\u001b[0;34m\u001b[0m\u001b[0m\n\u001b[0m\u001b[1;32m      9\u001b[0m \u001b[0;34m\u001b[0m\u001b[0m\n\u001b[1;32m     10\u001b[0m \u001b[0;31m# Set the message to be hashed\u001b[0m\u001b[0;34m\u001b[0m\u001b[0;34m\u001b[0m\u001b[0;34m\u001b[0m\u001b[0m\n",
      "\u001b[0;31mNameError\u001b[0m: name 'shake_256' is not defined"
     ]
    }
   ],
   "source": [
    "\n",
    "\n",
    "# Python program to demonstrate \n",
    "# the SHA-3 algorithm \n",
    "  \n",
    "\n",
    "from binascii import hexlify \n",
    "  \n",
    "# Instantiate the SHAKE256 object \n",
    "shake = shake_256.new() \n",
    "  \n",
    "# Set the message to be hashed \n",
    "shake.update(b'GeeksForGeeks') \n",
    "  \n",
    "# Print a hash output of 50 bits size \n",
    "print(hexlify(shake.read(50))) \n",
    "\n"
   ]
  },
  {
   "cell_type": "code",
   "execution_count": null,
   "metadata": {},
   "outputs": [],
   "source": [
    "m = hashlib.sha256()\n",
    "m.update(\"Nobody inspects hehe hu\".encode())\n",
    "k=m.digest()\n",
    "print(\"k=\",k)\n",
    "\n",
    "\n",
    "rtg = hashlib.sha256()\n",
    "rtg.update(m)\n",
    "rtg.update(str(R).encode())\n",
    "    \n",
    "hash_val = Integer('0x' + rtg.hexdigest()) # r  = H(M||R)\n",
    "    \n",
    "r = [0] * N\n",
    "ab = \"\"\n",
    "sum_c = 0\n"
   ]
  },
  {
   "cell_type": "code",
   "execution_count": 512,
   "metadata": {},
   "outputs": [
    {
     "ename": "ValueError",
     "evalue": "invalid literal for int() with base 16: '\\x88d¦\\x04%\\x11\\x80ÅÇÈÊ+4 Ö\\x1aÄ\\x96\\x053ÝB\\x08nzXuI\\x9dã'",
     "output_type": "error",
     "traceback": [
      "\u001b[0;31m---------------------------------------------------------------------------\u001b[0m",
      "\u001b[0;31mValueError\u001b[0m                                Traceback (most recent call last)",
      "\u001b[0;32m<ipython-input-512-c88f41d3c35e>\u001b[0m in \u001b[0;36m<module>\u001b[0;34m\u001b[0m\n\u001b[0;32m----> 1\u001b[0;31m \u001b[0minteger\u001b[0m \u001b[0;34m=\u001b[0m \u001b[0mint\u001b[0m\u001b[0;34m(\u001b[0m\u001b[0;34m'\\x88d\\xa6\\x04%\\x11\\x80\\xc5\\xc7\\xc8\\xca+4 \\xd6\\x1a\\xc4\\x96\\x053\\xddB\\x08nzXuI\\x9d\\xe3'\u001b[0m\u001b[0;34m,\u001b[0m \u001b[0mInteger\u001b[0m\u001b[0;34m(\u001b[0m\u001b[0;36m16\u001b[0m\u001b[0;34m)\u001b[0m\u001b[0;34m)\u001b[0m\u001b[0;34m\u001b[0m\u001b[0;34m\u001b[0m\u001b[0m\n\u001b[0m",
      "\u001b[0;31mValueError\u001b[0m: invalid literal for int() with base 16: '\\x88d¦\\x04%\\x11\\x80ÅÇÈÊ+4 Ö\\x1aÄ\\x96\\x053ÝB\\x08nzXuI\\x9dã'"
     ]
    }
   ],
   "source": [
    "integer = int('\\x88d\\xa6\\x04%\\x11\\x80\\xc5\\xc7\\xc8\\xca+4 \\xd6\\x1a\\xc4\\x96\\x053\\xddB\\x08nzXuI\\x9d\\xe3', 16)"
   ]
  },
  {
   "cell_type": "code",
   "execution_count": 522,
   "metadata": {},
   "outputs": [
    {
     "name": "stdout",
     "output_type": "stream",
     "text": [
      "m.encode()= b'are you okay now?'\n",
      "<_sha256.sha256 object at 0x1e1ba6bb0>\n",
      "None\n",
      "None\n",
      "rtg.hexdigest()= 6b50a3e74e0439a881e4ad28ff832e4975e6f90d938265a8a29eb6634fcd89f7\n",
      "hash_val= 5616301862412779693755324778012893991991583222027224383125953333335801792458\n"
     ]
    }
   ],
   "source": [
    "m=\"are you okay now?\"\n",
    "rtg = hashlib.sha256()\n",
    "rtg.update(m.encode())\n",
    "rtg.update(str(R).encode())\n",
    "hash_val = Integer('0x' + rtg.hexdigest())\n",
    "print(\"m.encode()=\",m.encode()) \n",
    "print(rtg)\n",
    "print(rtg.update(m.encode()))\n",
    "print(rtg.update(str(R).encode()))\n",
    "print(\"rtg.hexdigest()=\",rtg.hexdigest())\n",
    "print(\"hash_val=\", hash_val)"
   ]
  },
  {
   "cell_type": "code",
   "execution_count": 530,
   "metadata": {},
   "outputs": [
    {
     "name": "stdout",
     "output_type": "stream",
     "text": [
      "m.encode()= b'are you okay now?'\n",
      "<_sha256.sha256 object at 0x1e1bafa30>\n",
      "None\n",
      "None\n",
      "rtg.hexdigest()= 6b50a3e74e0439a881e4ad28ff832e4975e6f90d938265a8a29eb6634fcd89f7\n",
      "hash_val= 5616301862412779693755324778012893991991583222027224383125953333335801792458\n"
     ]
    }
   ],
   "source": [
    "m=\"are you okay now?\"\n",
    "rtg = hashlib.sha256()\n",
    "rtg.update(m.encode())\n",
    "rtg.update(str(R).encode())\n",
    "hash_val = Integer('0x' + rtg.hexdigest())\n",
    "print(\"m.encode()=\",m.encode()) \n",
    "print(rtg)\n",
    "print(rtg.update(m.encode()))\n",
    "print(rtg.update(str(R).encode()))\n",
    "print(\"rtg.hexdigest()=\",rtg.hexdigest())\n",
    "print(\"hash_val=\", hash_val)"
   ]
  },
  {
   "cell_type": "code",
   "execution_count": 529,
   "metadata": {},
   "outputs": [
    {
     "ename": "TypeError",
     "evalue": "digest() takes exactly one argument (0 given)",
     "output_type": "error",
     "traceback": [
      "\u001b[0;31m---------------------------------------------------------------------------\u001b[0m",
      "\u001b[0;31mTypeError\u001b[0m                                 Traceback (most recent call last)",
      "\u001b[0;32m<ipython-input-529-39c4403c0dba>\u001b[0m in \u001b[0;36m<module>\u001b[0;34m\u001b[0m\n\u001b[1;32m      6\u001b[0m \u001b[0mgfg\u001b[0m\u001b[0;34m.\u001b[0m\u001b[0mupdate\u001b[0m\u001b[0;34m(\u001b[0m\u001b[0;34mb'xyz@1234_GFG'\u001b[0m\u001b[0;34m)\u001b[0m\u001b[0;34m\u001b[0m\u001b[0;34m\u001b[0m\u001b[0m\n\u001b[1;32m      7\u001b[0m \u001b[0;34m\u001b[0m\u001b[0m\n\u001b[0;32m----> 8\u001b[0;31m \u001b[0mprint\u001b[0m\u001b[0;34m(\u001b[0m\u001b[0mgfg\u001b[0m\u001b[0;34m.\u001b[0m\u001b[0mdigest\u001b[0m\u001b[0;34m(\u001b[0m\u001b[0;34m)\u001b[0m\u001b[0;34m)\u001b[0m\u001b[0;34m\u001b[0m\u001b[0;34m\u001b[0m\u001b[0m\n\u001b[0m",
      "\u001b[0;31mTypeError\u001b[0m: digest() takes exactly one argument (0 given)"
     ]
    }
   ],
   "source": [
    "# import hashlib \n",
    "import hashlib \n",
    "  \n",
    "# Using hashlib.shake_256() method \n",
    "gfg = hashlib.shake_256() \n",
    "gfg.update(b'xyz@1234_GFG') \n",
    "  \n",
    "print(gfg.digest())"
   ]
  },
  {
   "cell_type": "code",
   "execution_count": 527,
   "metadata": {},
   "outputs": [
    {
     "ename": "IndentationError",
     "evalue": "unexpected indent (<ipython-input-527-4d12cdbcfa40>, line 13)",
     "output_type": "error",
     "traceback": [
      "\u001b[0;36m  File \u001b[0;32m\"<ipython-input-527-4d12cdbcfa40>\"\u001b[0;36m, line \u001b[0;32m13\u001b[0m\n\u001b[0;31m    vtg = hashlib.sha256()\u001b[0m\n\u001b[0m    ^\u001b[0m\n\u001b[0;31mIndentationError\u001b[0m\u001b[0;31m:\u001b[0m unexpected indent\n"
     ]
    }
   ],
   "source": [
    "def hash_function_1(bit_string,n,k):\n",
    "    \"\"\"\n",
    "    Hash function h_1: {0,1}^* |---->  ZZ_q^{n x n*k} \n",
    "    that maps a bit string of abitrary length to a random matrix in ZZ_q^{n x n*k}.\n",
    "    * Input:\n",
    "        - bit_string: A bit string\n",
    "        - n, k: Integers define the dimesion of output matrices.\n",
    "    \n",
    "    * Output:\n",
    "        - a random matrix in ZZ_q^{n x n*k}\n",
    "    \"\"\"\n",
    "    # \n",
    "     vtg = hashlib.sha256()\n",
    "     BLOCK_SIZE = 65536\n",
    "     with open(m, 'rb') as f: \n",
    "         fb = f.read(BLOCK_SIZE) \n",
    "         while len(fb) > 0:\n",
    "             vtg.update(fb)\n",
    "             fb = f.read(BLOCK_SIZE)\n",
    "     vtg.update(str(xR).encode())\n",
    "     v=Integer('0x' + vtg.hexdigest())\n",
    "     v = Fn(v)\n",
    "    return AA"
   ]
  },
  {
   "cell_type": "code",
   "execution_count": null,
   "metadata": {},
   "outputs": [],
   "source": [
    "def hash_function_2(bit_string,n,w):\n",
    "    \"\"\"\n",
    "    Hash function h_1: {0,1}^* |---->  S^n_w\n",
    "    that maps a bit string of abitrary length to a random sparse vector in S^n_w.\n",
    "    * Input:\n",
    "        - bit_string: A bit string\n",
    "        - n, k: Integers define the dimesion of output vectors.\n",
    "    \n",
    "    * Output:\n",
    "        - a random vector in S^n_w\n",
    "    \"\"\"\n",
    "    \n",
    "    return cc"
   ]
  },
  {
   "cell_type": "code",
   "execution_count": 474,
   "metadata": {},
   "outputs": [],
   "source": [
    "def hash_function_3(bit_string,n,m, k):\n",
    "    \"\"\"\n",
    "    Hash function h_1: {0,1}^* |---->  ZZ_q^{n x (m+n*k)} \n",
    "    that maps a bit string of abitrary length to a random matrix in ZZ_q^{n x (m+n*k)}.\n",
    "    * Input:\n",
    "        - bit_string: A bit string\n",
    "        - n, k: Integers define the dimesion of output matrices.\n",
    "    \n",
    "    * Output:\n",
    "        - a random matrix in ZZ_q^{n x (m+n*k)}\n",
    "    \"\"\"\n",
    "    \n",
    "    return AA"
   ]
  },
  {
   "cell_type": "code",
   "execution_count": null,
   "metadata": {},
   "outputs": [],
   "source": [
    "def parameter_setup(security_parameter):\n",
    "    \n",
    "    M=3\n",
    "    k=ceil(log(q,2))\n",
    "    m=mt+nk\n",
    "    return (n,q, w, M, m)\n",
    "    "
   ]
  },
  {
   "cell_type": "code",
   "execution_count": 480,
   "metadata": {},
   "outputs": [
    {
     "ename": "NameError",
     "evalue": "name 'shake' is not defined",
     "output_type": "error",
     "traceback": [
      "\u001b[0;31m---------------------------------------------------------------------------\u001b[0m",
      "\u001b[0;31mNameError\u001b[0m                                 Traceback (most recent call last)",
      "\u001b[0;32m<ipython-input-480-43b857c36193>\u001b[0m in \u001b[0;36m<module>\u001b[0;34m\u001b[0m\n\u001b[1;32m      1\u001b[0m \u001b[0mx\u001b[0m\u001b[0;34m=\u001b[0m\u001b[0;34m\"i ma verjvm,vn makfkafmkm\"\u001b[0m\u001b[0;34m\u001b[0m\u001b[0;34m\u001b[0m\u001b[0m\n\u001b[0;32m----> 2\u001b[0;31m \u001b[0mshake\u001b[0m\u001b[0;34m(\u001b[0m\u001b[0mx\u001b[0m\u001b[0;34m)\u001b[0m\u001b[0;34m\u001b[0m\u001b[0;34m\u001b[0m\u001b[0m\n\u001b[0m",
      "\u001b[0;31mNameError\u001b[0m: name 'shake' is not defined"
     ]
    }
   ],
   "source": [
    "x=\"i ma verjvm,vn makfkafmkm\"\n",
    "shake(x)\n"
   ]
  },
  {
   "cell_type": "code",
   "execution_count": null,
   "metadata": {},
   "outputs": [],
   "source": []
  },
  {
   "cell_type": "code",
   "execution_count": 483,
   "metadata": {},
   "outputs": [
    {
     "ename": "NameError",
     "evalue": "name 'shake_128' is not defined",
     "output_type": "error",
     "traceback": [
      "\u001b[0;31m---------------------------------------------------------------------------\u001b[0m",
      "\u001b[0;31mNameError\u001b[0m                                 Traceback (most recent call last)",
      "\u001b[0;32m<ipython-input-483-ca7fec7e2d52>\u001b[0m in \u001b[0;36m<module>\u001b[0;34m\u001b[0m\n\u001b[0;32m----> 1\u001b[0;31m \u001b[0mshake_128\u001b[0m\u001b[0;34m(\u001b[0m\u001b[0mx\u001b[0m\u001b[0;34m)\u001b[0m\u001b[0;34m\u001b[0m\u001b[0;34m\u001b[0m\u001b[0m\n\u001b[0m",
      "\u001b[0;31mNameError\u001b[0m: name 'shake_128' is not defined"
     ]
    }
   ],
   "source": [
    "shake_128(x)"
   ]
  },
  {
   "cell_type": "code",
   "execution_count": 532,
   "metadata": {},
   "outputs": [
    {
     "ename": "ValueError",
     "evalue": "invalid literal for int() with base 10: '/Users/harryle/Library/Jupyter/runtime/kernel-1b9acfbf-4f9b-4ffb-9169-35aa0d74f541.json'",
     "output_type": "error",
     "traceback": [
      "\u001b[0;31m---------------------------------------------------------------------------\u001b[0m",
      "\u001b[0;31mValueError\u001b[0m                                Traceback (most recent call last)",
      "\u001b[0;32m<ipython-input-532-2557a54a70b5>\u001b[0m in \u001b[0;36m<module>\u001b[0;34m\u001b[0m\n\u001b[1;32m      9\u001b[0m     \u001b[0mdata\u001b[0m\u001b[0;34m=\u001b[0m\u001b[0msys\u001b[0m\u001b[0;34m.\u001b[0m\u001b[0margv\u001b[0m\u001b[0;34m[\u001b[0m\u001b[0mInteger\u001b[0m\u001b[0;34m(\u001b[0m\u001b[0;36m1\u001b[0m\u001b[0;34m)\u001b[0m\u001b[0;34m]\u001b[0m\u001b[0;34m\u001b[0m\u001b[0;34m\u001b[0m\u001b[0m\n\u001b[1;32m     10\u001b[0m \u001b[0;32mif\u001b[0m \u001b[0;34m(\u001b[0m\u001b[0mlen\u001b[0m\u001b[0;34m(\u001b[0m\u001b[0msys\u001b[0m\u001b[0;34m.\u001b[0m\u001b[0margv\u001b[0m\u001b[0;34m)\u001b[0m\u001b[0;34m>\u001b[0m\u001b[0mInteger\u001b[0m\u001b[0;34m(\u001b[0m\u001b[0;36m2\u001b[0m\u001b[0;34m)\u001b[0m\u001b[0;34m)\u001b[0m\u001b[0;34m:\u001b[0m\u001b[0;34m\u001b[0m\u001b[0;34m\u001b[0m\u001b[0m\n\u001b[0;32m---> 11\u001b[0;31m     \u001b[0msize\u001b[0m\u001b[0;34m=\u001b[0m\u001b[0mint\u001b[0m\u001b[0;34m(\u001b[0m\u001b[0msys\u001b[0m\u001b[0;34m.\u001b[0m\u001b[0margv\u001b[0m\u001b[0;34m[\u001b[0m\u001b[0mInteger\u001b[0m\u001b[0;34m(\u001b[0m\u001b[0;36m2\u001b[0m\u001b[0;34m)\u001b[0m\u001b[0;34m]\u001b[0m\u001b[0;34m)\u001b[0m\u001b[0;34m\u001b[0m\u001b[0;34m\u001b[0m\u001b[0m\n\u001b[0m\u001b[1;32m     12\u001b[0m \u001b[0;34m\u001b[0m\u001b[0m\n\u001b[1;32m     13\u001b[0m \u001b[0mprint\u001b[0m \u001b[0;34m(\u001b[0m\u001b[0;34m'Input word:'\u001b[0m\u001b[0;34m,\u001b[0m\u001b[0mdata\u001b[0m\u001b[0;34m)\u001b[0m\u001b[0;34m\u001b[0m\u001b[0;34m\u001b[0m\u001b[0m\n",
      "\u001b[0;31mValueError\u001b[0m: invalid literal for int() with base 10: '/Users/harryle/Library/Jupyter/runtime/kernel-1b9acfbf-4f9b-4ffb-9169-35aa0d74f541.json'"
     ]
    }
   ],
   "source": [
    "import sys\n",
    "import hashlib\n",
    "\n",
    "\n",
    "data=\"hello\"\n",
    "size=16\n",
    "\n",
    "if (len(sys.argv)>1):\n",
    "    data=sys.argv[1]\n",
    "if (len(sys.argv)>2):\n",
    "    size=int(sys.argv[2])\n",
    "\n",
    "print ('Input word:',data)\n",
    "print ('Length (bytes):',size)\n",
    "\n",
    "\n",
    "print ('\\n-----SHAKE-----\\n')\n",
    "s = hashlib.shake_128()\n",
    "s.update(data.encode())\n",
    "print ('Shake 128 bit: ',s.hexdigest(size))\n",
    "s = hashlib.shake_256()\n",
    "s.update(data.encode())\n",
    "print ('Shake 256 bit: ',s.hexdigest(size))"
   ]
  },
  {
   "cell_type": "code",
   "execution_count": null,
   "metadata": {},
   "outputs": [
    {
     "name": "stdout",
     "output_type": "stream",
     "text": [
      "> \u001b[0;32m<ipython-input-532-2557a54a70b5>\u001b[0m(11)\u001b[0;36m<module>\u001b[0;34m()\u001b[0m\n",
      "\u001b[0;32m      9 \u001b[0;31m    \u001b[0mdata\u001b[0m\u001b[0;34m=\u001b[0m\u001b[0msys\u001b[0m\u001b[0;34m.\u001b[0m\u001b[0margv\u001b[0m\u001b[0;34m[\u001b[0m\u001b[0mInteger\u001b[0m\u001b[0;34m(\u001b[0m\u001b[0;36m1\u001b[0m\u001b[0;34m)\u001b[0m\u001b[0;34m]\u001b[0m\u001b[0;34m\u001b[0m\u001b[0;34m\u001b[0m\u001b[0m\n",
      "\u001b[0m\u001b[0;32m     10 \u001b[0;31m\u001b[0;32mif\u001b[0m \u001b[0;34m(\u001b[0m\u001b[0mlen\u001b[0m\u001b[0;34m(\u001b[0m\u001b[0msys\u001b[0m\u001b[0;34m.\u001b[0m\u001b[0margv\u001b[0m\u001b[0;34m)\u001b[0m\u001b[0;34m>\u001b[0m\u001b[0mInteger\u001b[0m\u001b[0;34m(\u001b[0m\u001b[0;36m2\u001b[0m\u001b[0;34m)\u001b[0m\u001b[0;34m)\u001b[0m\u001b[0;34m:\u001b[0m\u001b[0;34m\u001b[0m\u001b[0;34m\u001b[0m\u001b[0m\n",
      "\u001b[0m\u001b[0;32m---> 11 \u001b[0;31m    \u001b[0msize\u001b[0m\u001b[0;34m=\u001b[0m\u001b[0mint\u001b[0m\u001b[0;34m(\u001b[0m\u001b[0msys\u001b[0m\u001b[0;34m.\u001b[0m\u001b[0margv\u001b[0m\u001b[0;34m[\u001b[0m\u001b[0mInteger\u001b[0m\u001b[0;34m(\u001b[0m\u001b[0;36m2\u001b[0m\u001b[0;34m)\u001b[0m\u001b[0;34m]\u001b[0m\u001b[0;34m)\u001b[0m\u001b[0;34m\u001b[0m\u001b[0;34m\u001b[0m\u001b[0m\n",
      "\u001b[0m\u001b[0;32m     12 \u001b[0;31m\u001b[0;34m\u001b[0m\u001b[0m\n",
      "\u001b[0m\u001b[0;32m     13 \u001b[0;31m\u001b[0mprint\u001b[0m \u001b[0;34m(\u001b[0m\u001b[0;34m'Input word:'\u001b[0m\u001b[0;34m,\u001b[0m\u001b[0mdata\u001b[0m\u001b[0;34m)\u001b[0m\u001b[0;34m\u001b[0m\u001b[0;34m\u001b[0m\u001b[0m\n",
      "\u001b[0m\n"
     ]
    },
    {
     "name": "stdin",
     "output_type": "stream",
     "text": [
      "ipdb>  print ('Input word:',data)\n"
     ]
    },
    {
     "name": "stdout",
     "output_type": "stream",
     "text": [
      "Input word: -f\n"
     ]
    }
   ],
   "source": [
    "%debug"
   ]
  },
  {
   "cell_type": "code",
   "execution_count": null,
   "metadata": {},
   "outputs": [],
   "source": []
  }
 ],
 "metadata": {
  "kernelspec": {
   "display_name": "SageMath 9.2",
   "language": "sage",
   "name": "sagemath"
  },
  "language_info": {
   "codemirror_mode": {
    "name": "ipython",
    "version": 3
   },
   "file_extension": ".py",
   "mimetype": "text/x-python",
   "name": "python",
   "nbconvert_exporter": "python",
   "pygments_lexer": "ipython3",
   "version": "3.8.5"
  }
 },
 "nbformat": 4,
 "nbformat_minor": 4
}
