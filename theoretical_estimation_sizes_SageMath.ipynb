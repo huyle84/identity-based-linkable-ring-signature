{
 "cells": [
  {
   "cell_type": "code",
   "execution_count": null,
   "metadata": {},
   "outputs": [],
   "source": []
  },
  {
   "cell_type": "code",
   "execution_count": 137,
   "metadata": {},
   "outputs": [],
   "source": [
    "#SAGEMATH 9.2\n",
    "\n",
    "###========================================================###\n",
    "###========================================================###\n",
    "###      COMPUTE SIZES VIA THEORETICAL ESTIMATION          ###\n",
    "###========================================================###\n",
    "###========================================================###\n",
    "\n",
    "\n",
    "def publicsize(n,m,q):\n",
    "    return ceil(n*m*log(q,2)/(8*1024))\n",
    "\n",
    "def secretsize(n,mbar,k,sigma1,eta1):\n",
    "    return ceil(n*mbar*k*log(eta1*sigma1,2)/(8*1024))\n",
    "\n",
    "def privatesize(n,m,k,sigma3,eta3):\n",
    "    return ceil((m+n*k)*n*log(eta3*sigma3,2)/(8*1024))\n",
    "\n",
    "def sigsize(l,n,m,k,w,sigma,q,eta):\n",
    "    return ceil((l*(m+n*k+n)*log(eta*sigma,2)+w+n*n*log(q,2))/(8*1024))\n",
    "\n"
   ]
  },
  {
   "cell_type": "code",
   "execution_count": 138,
   "metadata": {},
   "outputs": [],
   "source": [
    "def theo_size(signer_list,n,k,m,q,mbar,w,sigma1,sigma3,sigma,eta1,eta3,eta):\n",
    "    \n",
    "    pk=publicsize(n,m,q)\n",
    "    sk=secretsize(n,mbar,k,sigma1,eta1)\n",
    "    prk=privatesize(n,m,k,sigma3,eta3)\n",
    "    print(\"pk, sk, prk=\")\n",
    "    print(pk, sk, prk)\n",
    "    \n",
    "    for l in signer_list:\n",
    "        ss=sigsize(l,n,m,k,w,sigma,q,eta)\n",
    "        print(\"#signers:\", l, \"==>\", \"sigsize=\",ss)\n",
    "    \n",
    "    "
   ]
  },
  {
   "cell_type": "code",
   "execution_count": null,
   "metadata": {},
   "outputs": [],
   "source": []
  },
  {
   "cell_type": "code",
   "execution_count": null,
   "metadata": {},
   "outputs": [],
   "source": []
  },
  {
   "cell_type": "code",
   "execution_count": 157,
   "metadata": {},
   "outputs": [],
   "source": [
    "eta1=1.3\n",
    "eta3=3\n",
    "eta=1.3"
   ]
  },
  {
   "cell_type": "code",
   "execution_count": 158,
   "metadata": {},
   "outputs": [
    {
     "name": "stdout",
     "output_type": "stream",
     "text": [
      "pk, sk, prk=\n",
      "265 336 310\n",
      "#signers: 10 ==> sigsize= 147\n",
      "#signers: 20 ==> sigsize= 288\n",
      "#signers: 30 ==> sigsize= 429\n",
      "#signers: 40 ==> sigsize= 571\n"
     ]
    }
   ],
   "source": [
    "\n",
    "signer_list=[10,20,30,40]\n",
    "n=40\n",
    "k=26\n",
    "q=2**k\n",
    "mbar=1040\n",
    "w=11\n",
    "m=2080\n",
    "sigma1=4.48083023712027\n",
    "sigma3=429061.131614986\n",
    "sigma=8.11257427288557*10**10\n",
    "theo_size(signer_list,n,k,m,q,mbar,w,sigma1,sigma3,sigma,eta1,eta3,eta)"
   ]
  },
  {
   "cell_type": "code",
   "execution_count": 147,
   "metadata": {},
   "outputs": [
    {
     "name": "stdout",
     "output_type": "stream",
     "text": [
      "pk, sk, prk=\n",
      "740 940 759\n",
      "#signers: 10 ==> sigsize= 262\n",
      "#signers: 20 ==> sigsize= 511\n",
      "#signers: 30 ==> sigsize= 760\n",
      "#signers: 40 ==> sigsize= 1008\n"
     ]
    }
   ],
   "source": [
    "signer_list=[10,20,30,40]\n",
    "n=60\n",
    "k=29\n",
    "q=2**k\n",
    "mbar=1740\n",
    "w=15\n",
    "m=3480\n",
    "sigma1=4.48083023712027\n",
    "sigma3= 716451.780933469\n",
    "sigma=3.21126195212814*10**11\n",
    "theo_size(signer_list,n,k,m,q,mbar,w,sigma1,sigma3,sigma,eta1,eta3,eta)"
   ]
  },
  {
   "cell_type": "code",
   "execution_count": 143,
   "metadata": {},
   "outputs": [
    {
     "name": "stdout",
     "output_type": "stream",
     "text": [
      "pk, sk, prk=\n",
      "1600 2034 1620\n",
      "#signers: 10 ==> sigsize= 421\n",
      "#signers: 20 ==> sigsize= 817\n",
      "#signers: 30 ==> sigsize= 1212\n",
      "#signers: 40 ==> sigsize= 1608\n"
     ]
    }
   ],
   "source": [
    "signer_list=[10,20,30,40]\n",
    "n=80\n",
    "k=32\n",
    "q=2**k\n",
    "mbar=2560\n",
    "w=20\n",
    "m=5120\n",
    "sigma1=4.48083023712027\n",
    "sigma3=1.05285730202738*10**6\n",
    "sigma=2.87875508121890*10**12\n",
    "theo_size(signer_list,n,k,m,q,mbar,w,sigma1,sigma3,sigma,eta1,eta3,eta)"
   ]
  },
  {
   "cell_type": "code",
   "execution_count": 144,
   "metadata": {},
   "outputs": [
    {
     "name": "stdout",
     "output_type": "stream",
     "text": [
      "pk, sk, prk=\n",
      "2991 3802 2826\n",
      "#signers: 10 ==> sigsize= 639\n",
      "#signers: 20 ==> sigsize= 1234\n",
      "#signers: 30 ==> sigsize= 1830\n",
      "#signers: 40 ==> sigsize= 2426\n"
     ]
    }
   ],
   "source": [
    "\n",
    "signer_list=[10,20,30,40]\n",
    "n=100\n",
    "k=35\n",
    "q=2**k\n",
    "mbar=3500\n",
    "w=24\n",
    "m=7000\n",
    "sigma1=4.48083023712027\n",
    "sigma3=1.43830770969715*10**6\n",
    "sigma=5.51800764686501*10**13\n",
    "theo_size(signer_list,n,k,m,q,mbar,w,sigma1,sigma3,sigma,eta1,eta3,eta)"
   ]
  },
  {
   "cell_type": "code",
   "execution_count": 88,
   "metadata": {},
   "outputs": [
    {
     "data": {
      "text/plain": [
       "0.995625017763634"
      ]
     },
     "execution_count": 88,
     "metadata": {},
     "output_type": "execute_result"
    }
   ],
   "source": [
    "eta=3.5\n",
    "1-RR(2*e**(-(eta**2)/2))"
   ]
  },
  {
   "cell_type": "code",
   "execution_count": null,
   "metadata": {},
   "outputs": [],
   "source": []
  }
 ],
 "metadata": {
  "kernelspec": {
   "display_name": "SageMath 9.2",
   "language": "sage",
   "name": "sagemath"
  },
  "language_info": {
   "codemirror_mode": {
    "name": "ipython",
    "version": 3
   },
   "file_extension": ".py",
   "mimetype": "text/x-python",
   "name": "python",
   "nbconvert_exporter": "python",
   "pygments_lexer": "ipython3",
   "version": "3.8.5"
  }
 },
 "nbformat": 4,
 "nbformat_minor": 4
}
