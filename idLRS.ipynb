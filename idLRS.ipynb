{
 "cells": [
  {
   "cell_type": "code",
   "execution_count": 1,
   "metadata": {},
   "outputs": [],
   "source": [
    "# coding: utf-8\n",
    "###========================================================###\n",
    "###========================================================###\n",
    "###         IDENTITY-BASED LINKABLE RING SIGNATURE         ###\n",
    "###========================================================###\n",
    "###========================================================###\n",
    "\n",
    "from timeit import default_timer as timer\n",
    "import sys\n",
    "import random\n",
    "import time"
   ]
  },
  {
   "cell_type": "code",
   "execution_count": 2,
   "metadata": {},
   "outputs": [
    {
     "data": {
      "text/plain": [
<<<<<<< HEAD
       "(13, 8, 9, 4, 6)"
=======
       "(-8, 4, -10, -2, -11)"
>>>>>>> b2863b7f681b0c8344fec9ab8b4f21dabed280cd
      ]
     },
     "execution_count": 2,
     "metadata": {},
     "output_type": "execute_result"
    }
   ],
   "source": [
    "from sage.stats.distributions.discrete_gaussian_integer import DiscreteGaussianDistributionIntegerSampler\n",
    "\n",
    "def SecretGen(q,n):\n",
    "    \"\"\"\n",
    "    Generate the secret of LWR instance: uniformly from {-q,...,q}\n",
    "    \n",
    "    Input:\n",
    "    \n",
    "    Output:\n",
    "    \n",
    "    \n",
    "    \"\"\"\n",
    "    \n",
    "    #list_ss=[randint(-q, q) for i in range(n)]\n",
    "    ssZZ=vector(ZZ,[randint(-q, q) for i in range(n)])\n",
    "    return ssZZ\n",
    "SecretGen(13,5)\n"
   ]
  },
  {
   "cell_type": "code",
   "execution_count": 3,
   "metadata": {},
   "outputs": [
    {
     "data": {
      "text/plain": [
       "5"
      ]
     },
     "execution_count": 3,
     "metadata": {},
     "output_type": "execute_result"
    }
   ],
   "source": [
    "def sample_z(s,c):\n",
    "    \"\"\"\n",
    "    Sample from D_{ZZ,s,c} defined by \\rho_s,c(x):=exp(-(x-c)^2/(2s^2))\n",
    "    s: Gaussian parameter\n",
    "    c: center\n",
    "    Input:\n",
    "    \n",
    "    Output:\n",
    "    \n",
    "    See at https://doc.sagemath.org/html/en/reference/stats/sage/stats/distributions/discrete_gaussian_integer.html\n",
    "    \"\"\"\n",
    "    D=DiscreteGaussianDistributionIntegerSampler(s, c)\n",
    "    return D()\n",
    "\n",
    "sampleZZ(0.3,5)"
   ]
  },
  {
   "cell_type": "code",
   "execution_count": null,
   "metadata": {},
   "outputs": [],
   "source": []
  },
  {
   "cell_type": "code",
<<<<<<< HEAD
   "execution_count": 4,
=======
   "execution_count": 47,
>>>>>>> b2863b7f681b0c8344fec9ab8b4f21dabed280cd
   "metadata": {},
   "outputs": [
    {
     "name": "stderr",
     "output_type": "stream",
     "text": [
      "/Applications/SageMath/local/lib/python3.8/site-packages/mpmath/ctx_mp_python.py:892: SyntaxWarning: \"is\" with a literal. Did you mean \"==\"?\n",
      "  if other is 0:\n",
      "/Applications/SageMath/local/lib/python3.8/site-packages/mpmath/ctx_mp_python.py:986: SyntaxWarning: \"is\" with a literal. Did you mean \"==\"?\n",
      "  if other is 0:\n"
     ]
    },
    {
     "data": {
      "text/plain": [
<<<<<<< HEAD
       "(3, 0, 4)"
      ]
     },
     "execution_count": 4,
=======
       "(2, 0, 5)"
      ]
     },
     "execution_count": 47,
>>>>>>> b2863b7f681b0c8344fec9ab8b4f21dabed280cd
     "metadata": {},
     "output_type": "execute_result"
    }
   ],
   "source": [
    "from sage.stats.distributions.discrete_gaussian_lattice import DiscreteGaussianDistributionLatticeSampler\n",
    "def sample_d(BB,sigma,cc):\n",
    "    \"\"\"\n",
    "    Sample from D_{L(BB),s,cc}, defined by \\rho_s,c(x):=exp(-||x-c||^2/(2s^2))\n",
    "    BB: a basis for the lattice L(BB)\n",
    "    s: Gaussian parameter\n",
    "    cc: center vector\n",
    "    See at https://doc.sagemath.org/html/en/reference/stats/sage/stats/distributions/discrete_gaussian_lattice.html\n",
    "    \n",
    "      Input:\n",
    "    \n",
    "    Output:\n",
    "    \n",
    "    \n",
    "    \"\"\"\n",
    "    \n",
    "    D=DiscreteGaussianDistributionLatticeSampler(BB, sigma, cc)\n",
    "    return D()\n",
    "BB=[[1,3,2], [2,-1,4], [0,6,-1]]\n",
    "sigma=0.6\n",
    "cc=(2,-1,3)\n",
    "#sampleD(ZZ^3,s, cc)\n",
    "DiscreteGaussianDistributionLatticeSampler(BB, sigma, cc)\n",
    "sampleD(BB,sigma,cc)"
   ]
  },
  {
   "cell_type": "code",
   "execution_count": 5,
   "metadata": {},
   "outputs": [
    {
     "ename": "SyntaxError",
     "evalue": "invalid syntax (<ipython-input-5-cf324eb87e1b>, line 15)",
     "output_type": "error",
     "traceback": [
      "\u001b[0;36m  File \u001b[0;32m\"<ipython-input-5-cf324eb87e1b>\"\u001b[0;36m, line \u001b[0;32m15\u001b[0m\n\u001b[0;31m    for\u001b[0m\n\u001b[0m        ^\u001b[0m\n\u001b[0;31mSyntaxError\u001b[0m\u001b[0;31m:\u001b[0m invalid syntax\n"
     ]
    }
   ],
   "source": [
    "def MatVecTensor(AA,bb):\n",
    "    \"\"\"\n",
    "    Compute the tensor product of AA amd bb\n",
    "    Inputs:\n",
    "    matrix AA:\n",
    "    Vector bb:\n",
    "    \n",
    "    Output: Tensor of AA and bb\n",
    "    \n",
    "    \"\"\"\n",
    "    n=AA.nrows()\n",
    "    m=AA.ncols()\n",
    "    k=len(bb)\n",
    "    CC=matrix(ZZ,n,n*k)\n",
    "    for \n",
    "    "
   ]
  },
  {
   "cell_type": "code",
<<<<<<< HEAD
   "execution_count": 7,
   "metadata": {},
   "outputs": [
    {
     "ename": "TypeError",
     "evalue": "tensor product requires a second matrix, not (1, 2, 4)",
     "output_type": "error",
     "traceback": [
      "\u001b[0;31m---------------------------------------------------------------------------\u001b[0m",
      "\u001b[0;31mTypeError\u001b[0m                                 Traceback (most recent call last)",
      "\u001b[0;32m<ipython-input-7-f3bc3744da4a>\u001b[0m in \u001b[0;36m<module>\u001b[0;34m\u001b[0m\n\u001b[1;32m     14\u001b[0m     \u001b[0mGG\u001b[0m\u001b[0;34m=\u001b[0m\u001b[0midentity_matrix\u001b[0m\u001b[0;34m(\u001b[0m\u001b[0mn\u001b[0m\u001b[0;34m)\u001b[0m\u001b[0;34m.\u001b[0m\u001b[0mtensor_product\u001b[0m\u001b[0;34m(\u001b[0m\u001b[0mgg\u001b[0m\u001b[0;34m)\u001b[0m\u001b[0;34m\u001b[0m\u001b[0;34m\u001b[0m\u001b[0m\n\u001b[1;32m     15\u001b[0m     \u001b[0;32mreturn\u001b[0m \u001b[0mGG\u001b[0m\u001b[0;34m\u001b[0m\u001b[0;34m\u001b[0m\u001b[0m\n\u001b[0;32m---> 16\u001b[0;31m \u001b[0mgadgetmatrix\u001b[0m\u001b[0;34m(\u001b[0m\u001b[0mInteger\u001b[0m\u001b[0;34m(\u001b[0m\u001b[0;36m3\u001b[0m\u001b[0;34m)\u001b[0m\u001b[0;34m,\u001b[0m \u001b[0mInteger\u001b[0m\u001b[0;34m(\u001b[0m\u001b[0;36m8\u001b[0m\u001b[0;34m)\u001b[0m\u001b[0;34m)\u001b[0m\u001b[0;34m\u001b[0m\u001b[0;34m\u001b[0m\u001b[0m\n\u001b[0m",
      "\u001b[0;32m<ipython-input-7-f3bc3744da4a>\u001b[0m in \u001b[0;36mgadgetmatrix\u001b[0;34m(n, q)\u001b[0m\n\u001b[1;32m     12\u001b[0m     \u001b[0mIIn\u001b[0m\u001b[0;34m=\u001b[0m\u001b[0midentity_matrix\u001b[0m\u001b[0;34m(\u001b[0m\u001b[0mn\u001b[0m\u001b[0;34m)\u001b[0m\u001b[0;34m\u001b[0m\u001b[0;34m\u001b[0m\u001b[0m\n\u001b[1;32m     13\u001b[0m     \u001b[0;31m#Tensor product GG=IIn tensor gg\u001b[0m\u001b[0;34m\u001b[0m\u001b[0;34m\u001b[0m\u001b[0;34m\u001b[0m\u001b[0m\n\u001b[0;32m---> 14\u001b[0;31m     \u001b[0mGG\u001b[0m\u001b[0;34m=\u001b[0m\u001b[0midentity_matrix\u001b[0m\u001b[0;34m(\u001b[0m\u001b[0mn\u001b[0m\u001b[0;34m)\u001b[0m\u001b[0;34m.\u001b[0m\u001b[0mtensor_product\u001b[0m\u001b[0;34m(\u001b[0m\u001b[0mgg\u001b[0m\u001b[0;34m)\u001b[0m\u001b[0;34m\u001b[0m\u001b[0;34m\u001b[0m\u001b[0m\n\u001b[0m\u001b[1;32m     15\u001b[0m     \u001b[0;32mreturn\u001b[0m \u001b[0mGG\u001b[0m\u001b[0;34m\u001b[0m\u001b[0;34m\u001b[0m\u001b[0m\n\u001b[1;32m     16\u001b[0m \u001b[0mgadgetmatrix\u001b[0m\u001b[0;34m(\u001b[0m\u001b[0mInteger\u001b[0m\u001b[0;34m(\u001b[0m\u001b[0;36m3\u001b[0m\u001b[0;34m)\u001b[0m\u001b[0;34m,\u001b[0m \u001b[0mInteger\u001b[0m\u001b[0;34m(\u001b[0m\u001b[0;36m8\u001b[0m\u001b[0;34m)\u001b[0m\u001b[0;34m)\u001b[0m\u001b[0;34m\u001b[0m\u001b[0;34m\u001b[0m\u001b[0m\n",
      "\u001b[0;32m/Applications/SageMath/local/lib/python3.8/site-packages/sage/matrix/matrix2.pyx\u001b[0m in \u001b[0;36msage.matrix.matrix2.Matrix.tensor_product (build/cythonized/sage/matrix/matrix2.c:63991)\u001b[0;34m()\u001b[0m\n\u001b[1;32m   8860\u001b[0m         \"\"\"\n\u001b[1;32m   8861\u001b[0m         \u001b[0;32mif\u001b[0m \u001b[0;32mnot\u001b[0m \u001b[0misinstance\u001b[0m\u001b[0;34m(\u001b[0m\u001b[0mA\u001b[0m\u001b[0;34m,\u001b[0m \u001b[0mMatrix\u001b[0m\u001b[0;34m)\u001b[0m\u001b[0;34m:\u001b[0m\u001b[0;34m\u001b[0m\u001b[0;34m\u001b[0m\u001b[0m\n\u001b[0;32m-> 8862\u001b[0;31m             \u001b[0;32mraise\u001b[0m \u001b[0mTypeError\u001b[0m\u001b[0;34m(\u001b[0m\u001b[0;34m'tensor product requires a second matrix, not {0}'\u001b[0m\u001b[0;34m.\u001b[0m\u001b[0mformat\u001b[0m\u001b[0;34m(\u001b[0m\u001b[0mA\u001b[0m\u001b[0;34m)\u001b[0m\u001b[0;34m)\u001b[0m\u001b[0;34m\u001b[0m\u001b[0;34m\u001b[0m\u001b[0m\n\u001b[0m\u001b[1;32m   8863\u001b[0m         \u001b[0;32mfrom\u001b[0m \u001b[0msage\u001b[0m\u001b[0;34m.\u001b[0m\u001b[0mmatrix\u001b[0m\u001b[0;34m.\u001b[0m\u001b[0mconstructor\u001b[0m \u001b[0;32mimport\u001b[0m \u001b[0mblock_matrix\u001b[0m\u001b[0;34m\u001b[0m\u001b[0;34m\u001b[0m\u001b[0m\n\u001b[1;32m   8864\u001b[0m         \u001b[0;31m# Special case when one of the matrices is 0 \\times m or m \\times 0\u001b[0m\u001b[0;34m\u001b[0m\u001b[0;34m\u001b[0m\u001b[0;34m\u001b[0m\u001b[0m\n",
      "\u001b[0;31mTypeError\u001b[0m: tensor product requires a second matrix, not (1, 2, 4)"
=======
   "execution_count": 57,
   "metadata": {},
   "outputs": [
    {
     "name": "stdout",
     "output_type": "stream",
     "text": [
      "gg= (1, 2, 4, 8, 16)\n",
      "GG=\n",
      "[0 0 0 0 0 0 0 0 0 0 0 0 0 0 0]\n",
      "[0 0 0 0 0 0 0 0 0 0 0 0 0 0 0]\n",
      "[0 0 0 0 0 0 0 0 0 0 0 0 0 0 0]\n",
      "GG=\n",
      "[ 1  2  4  8 16  0  0  0  0  0  0  0  0  0  0]\n",
      "[ 0  0  0  0  0  1  2  4  8 16  0  0  0  0  0]\n",
      "[ 0  0  0  0  0  0  0  0  0  0  1  2  4  8 16]\n"
>>>>>>> b2863b7f681b0c8344fec9ab8b4f21dabed280cd
     ]
    },
    {
     "data": {
      "text/plain": [
       "[ 1  2  4  8 16  0  0  0  0  0  0  0  0  0  0]\n",
       "[ 0  0  0  0  0  1  2  4  8 16  0  0  0  0  0]\n",
       "[ 0  0  0  0  0  0  0  0  0  0  1  2  4  8 16]"
      ]
     },
     "execution_count": 57,
     "metadata": {},
     "output_type": "execute_result"
    }
   ],
   "source": [
    "def gadget_matrix(n, q):\n",
    "    \"\"\"\n",
    "    Input: Integers n, q\n",
    "    \n",
    "    Output:                  |gg  0   0  ...   0 |\n",
    "                             |0   gg  0  ...   0 |\n",
    "          Gadget matrix GG=  |0   0   gg ...   0 |    \n",
    "                             |...................|\n",
    "                             |0   0    0 ...   gg|\n",
    "    where gg=(1 2 4 8....2^{k-1}), k=ceil(log(q,2)) .\n",
    "    \"\"\"\n",
    "  \n",
    " \n",
    "    k=ceil(log(q,2))\n",
    "    m=n*k\n",
    "    ZZq = IntegerModRing(q)\n",
    "    #vector gg=[1 2 4 8....2^{k-1}] \n",
    "    gg=vector([2**i for i in range(k)])\n",
    "    print(\"gg=\",gg)\n",
    "    \n",
    "    # Initialize GG as a zero matrix in ZZ^{n x m}\n",
    "    GG=zero_matrix(ZZ,n, m)\n",
    "    print(\"GG=\")\n",
    "    print(GG)\n",
    "    # For each row i, we change elements at i*k+j for j in [0,..,k-1] by gg[j]\n",
    "    for i in range(n):\n",
    "        for j in range(k):\n",
    "            GG[i,i*k+j]=gg[j]\n",
    "    print(\"GG=\")\n",
    "    print(GG)\n",
    "    GG.change_ring(ZZq)\n",
    "    \n",
    "    return GG\n",
    "gadget_matrix(3, 17)"
   ]
  },
  {
   "cell_type": "code",
   "execution_count": null,
   "metadata": {
    "tags": []
   },
   "outputs": [],
   "source": []
  },
  {
   "cell_type": "code",
   "execution_count": 144,
   "metadata": {},
   "outputs": [
    {
     "data": {
      "text/plain": [
       "[1 2 2 4]\n",
       "[0 2 3 4]\n",
       "[0 2 0 3]\n",
       "[0 1 4 4]"
      ]
     },
     "execution_count": 144,
     "metadata": {},
     "output_type": "execute_result"
    }
   ],
   "source": [
    "def random_invertible_matrix(modulus, size):\n",
    "    \"\"\"\n",
    "    Input:\n",
    "    - modulus: modulus of the base ring, such as modulus=5 then we consider the ring ZZ_5 \n",
    "    - size: default value is 3\n",
    "    Output: A matrix that is invertible in ZZ_q, with q=modulus\n",
    "    \"\"\"\n",
    "    ZZq = IntegerModRing(modulus)\n",
    "    V = ZZq**size\n",
    "    vectors = []\n",
    "    for i in range(size):\n",
    "        v = V.random_element()\n",
    "        while v in V.span(vectors):\n",
    "            v = V.random_element()\n",
    "        vectors.append(v)\n",
    "    return(matrix(vectors))\n",
    "random_invertible_matrix(5, 4)"
   ]
  },
  {
   "cell_type": "code",
   "execution_count": 121,
   "metadata": {},
   "outputs": [
    {
     "name": "stdout",
     "output_type": "stream",
     "text": [
      "mt= 5\n",
      "nk= 20\n",
      "AAt=\n",
      "[ 2  4  8  3 11]\n",
      "[ 5  4  9  6  6]\n",
      "[11  2  6  9  9]\n",
      "[ 5  6  0  8  2]\n",
      "[ 0 12  9 12  0]\n",
      "gg= (1, 2, 4, 8)\n",
      "GG=\n",
      "[0 0 0 0 0 0 0 0 0 0 0 0 0 0 0 0 0 0 0 0]\n",
      "[0 0 0 0 0 0 0 0 0 0 0 0 0 0 0 0 0 0 0 0]\n",
      "[0 0 0 0 0 0 0 0 0 0 0 0 0 0 0 0 0 0 0 0]\n",
      "[0 0 0 0 0 0 0 0 0 0 0 0 0 0 0 0 0 0 0 0]\n",
      "[0 0 0 0 0 0 0 0 0 0 0 0 0 0 0 0 0 0 0 0]\n",
      "GG=\n",
      "[1 2 4 8 0 0 0 0 0 0 0 0 0 0 0 0 0 0 0 0]\n",
      "[0 0 0 0 1 2 4 8 0 0 0 0 0 0 0 0 0 0 0 0]\n",
      "[0 0 0 0 0 0 0 0 1 2 4 8 0 0 0 0 0 0 0 0]\n",
      "[0 0 0 0 0 0 0 0 0 0 0 0 1 2 4 8 0 0 0 0]\n",
      "[0 0 0 0 0 0 0 0 0 0 0 0 0 0 0 0 1 2 4 8]\n",
      "GG=\n",
      "[1 2 4 8 0 0 0 0 0 0 0 0 0 0 0 0 0 0 0 0]\n",
      "[0 0 0 0 1 2 4 8 0 0 0 0 0 0 0 0 0 0 0 0]\n",
      "[0 0 0 0 0 0 0 0 1 2 4 8 0 0 0 0 0 0 0 0]\n",
      "[0 0 0 0 0 0 0 0 0 0 0 0 1 2 4 8 0 0 0 0]\n",
      "[0 0 0 0 0 0 0 0 0 0 0 0 0 0 0 0 1 2 4 8]\n",
      "cc=\n",
      "(0, 0, 0, 0, 0, 0, 0, 0, 0, 0, 0, 0, 0, 0, 0, 0, 0, 0, 0, 0)\n",
      "TT=\n",
      "[ 0 -1  1 -1  0  0  0  0  0  1  0  0 -1  0  0  0  0  0  0  0]\n",
      "[ 0  0  1  0 -1  0  0  0  1  0  0  0  0 -1  0  0  0 -1  0  0]\n",
      "[ 0  0 -1 -1  0 -1  0  0  1  0 -1 -2  0  0 -1  0  0  0  0  0]\n",
      "[ 0 -1  1  0  1  0 -1  0  0  0  0  0 -1 -1  0 -1  0  0  0  0]\n",
      "[-1  0  1  0  0 -1  0  1  0  0  0  0  1  0  0  0  0  0  0  1]\n",
      "HH=\n",
      "[ 6  6 10 12  2]\n",
      "[11  4  8  7 12]\n",
      "[10 10  7 12  5]\n",
      "[ 0  7  4  4  4]\n",
      "[ 5  5  8  0  4]\n",
      "BBz=\n",
      "[ 17  17  12  58   7  31  27  37  -2  18  48  96   6  31  56  99   2   8   8   5]\n",
      "[ 17  33  32 102   2  23  22  26  -5  11  41  82  12  24  37  62  12  28  48  90]\n",
      "[ 19  40  15  97   3  35  49  71  -1   3  34  68  23  35  54 105   5  12  20  31]\n",
      "[  2  13 -21   5   5  16  36  54  -2   3  16  32  15  22  16  40   4  14  16  30]\n",
      "[  5  22   5  49   5  19  32  40 -13  16  41  82  12  24   9  12   4  20  16  32]\n",
      "BB=\n",
      "[ 4  4 12  6  7  5  1 11 11  5  9  5  6  5  4  8  2  8  8  5]\n",
      "[ 4  7  6 11  2 10  9  0  8 11  2  4 12 11 11 10 12  2  9 12]\n",
      "[ 6  1  2  6  3  9 10  6 12  3  8  3 10  9  2  1  5 12  7  5]\n",
      "[ 2  0  5  5  5  3 10  2 11  3  3  6  2  9  3  1  4  1  3  4]\n",
      "[ 5  9  5 10  5  6  6  1  0  3  2  4 12 11  9 12  4  7  3  6]\n",
      "AA=\n",
      "[ 2  4  8  3 11| 4  4 12  6  7  5  1 11 11  5  9  5  6  5  4  8  2  8  8  5]\n",
      "[ 5  4  9  6  6| 4  7  6 11  2 10  9  0  8 11  2  4 12 11 11 10 12  2  9 12]\n",
      "[11  2  6  9  9| 6  1  2  6  3  9 10  6 12  3  8  3 10  9  2  1  5 12  7  5]\n",
      "[ 5  6  0  8  2| 2  0  5  5  5  3 10  2 11  3  3  6  2  9  3  1  4  1  3  4]\n",
      "[ 0 12  9 12  0| 5  9  5 10  5  6  6  1  0  3  2  4 12 11  9 12  4  7  3  6]\n",
      "AA= [ 2  4  8  3 11| 4  4 12  6  7  5  1 11 11  5  9  5  6  5  4  8  2  8  8  5]\n",
      "[ 5  4  9  6  6| 4  7  6 11  2 10  9  0  8 11  2  4 12 11 11 10 12  2  9 12]\n",
      "[11  2  6  9  9| 6  1  2  6  3  9 10  6 12  3  8  3 10  9  2  1  5 12  7  5]\n",
      "[ 5  6  0  8  2| 2  0  5  5  5  3 10  2 11  3  3  6  2  9  3  1  4  1  3  4]\n",
      "[ 0 12  9 12  0| 5  9  5 10  5  6  6  1  0  3  2  4 12 11  9 12  4  7  3  6]\n",
      "HH= [ 6  6 10 12  2]\n",
      "[11  4  8  7 12]\n",
      "[10 10  7 12  5]\n",
      "[ 0  7  4  4  4]\n",
      "[ 5  5  8  0  4]\n",
      "TT= [ 0 -1  1 -1  0  0  0  0  0  1  0  0 -1  0  0  0  0  0  0  0]\n",
      "[ 0  0  1  0 -1  0  0  0  1  0  0  0  0 -1  0  0  0 -1  0  0]\n",
      "[ 0  0 -1 -1  0 -1  0  0  1  0 -1 -2  0  0 -1  0  0  0  0  0]\n",
      "[ 0 -1  1  0  1  0 -1  0  0  0  0  0 -1 -1  0 -1  0  0  0  0]\n",
      "[-1  0  1  0  0 -1  0  1  0  0  0  0  1  0  0  0  0  0  0  1]\n",
      "q= 13\n"
     ]
    },
    {
     "name": "stderr",
     "output_type": "stream",
     "text": [
      "<>:17: DeprecationWarning: invalid escape sequence \\c\n",
      "<>:17: DeprecationWarning: invalid escape sequence \\c\n",
      "<>:17: DeprecationWarning: invalid escape sequence \\c\n",
      "<ipython-input-121-bef9d135a105>:17: DeprecationWarning: invalid escape sequence \\c\n",
      "  \"\"\"\n"
     ]
    }
   ],
   "source": [
    "#==========================================================\n",
    "def gen_trap_mp_12(n, q, m, option_HH=0):\n",
    "    \"\"\"\n",
    "    Generate a matrix AA and its trapdoor TT via MP12:\n",
    "    \n",
    "    \n",
    "    Input:\n",
    "    \n",
    "    n: number of rows (security parameter) of AA\n",
    "    q: modulus, q should be prime \n",
    "    m: number of columns, where k=\\ceil(log_2(q)), m=mt+n*k, mt>=1\n",
    "    option_HH: If option_HH=0 (default) then HH is zero matrix. Otherwise, HH is chosen to be invertible in ZZq\n",
    "    \n",
    "    Output:\n",
    "    \n",
    "    \n",
    "    \"\"\"\n",
    "    # Initial\n",
    "    ZZq = IntegerModRing(q)\n",
    "    k=ceil(log(q,2))\n",
    "    w=n*k\n",
    "    mt=m-w\n",
    "    print(\"mt=\", mt)\n",
    "    print(\"nk=\", n*k)\n",
    "    \n",
    "    #Generate (n x mt)-matrix AAt from ZZq\n",
    "    AAt = random_matrix(ZZq,n,mt)\n",
    "    print(\"AAt=\")\n",
    "    print(AAt)\n",
    "    \n",
    "    #Generate gadget matrix GG\n",
    "    GG=gadget_matrix(n, q)\n",
    "    print(\"GG=\")\n",
    "    print(GG)\n",
    "    \n",
    "    #Generate center for Discrete Gaussian\n",
    "    cc=zero_vector(ZZ,w)\n",
    "    print(\"cc=\")\n",
    "    print(cc)\n",
    "    \n",
    "    #Generate trapdoor via D_{ZZ^w,s,cc}\n",
    "    TT=matrix([sample_d(ZZ^w,s,cc) for i in range(mt)])\n",
    "    print(\"TT=\")\n",
    "    print(TT)\n",
    "    \n",
    "    #Generate n-dimensional matrix H that is invertible in ZZ_q\n",
    "    if option_HH==0:\n",
    "        HH=zero_matrix(ZZq,n)\n",
    "    else:\n",
    "        HH=random_invertible_matrix(q,n)\n",
    "    print(\"HH=\")\n",
    "    print(HH)\n",
    "    \n",
    "    # Change into ZZ\n",
    "    HHz=HH.change_ring(ZZ)\n",
    "    GGz=GG.change_ring(ZZ)\n",
    "    AAtz=AAt.change_ring(ZZ)\n",
    "    \n",
    "    # Compute BBz=HHz*GGz-AAtz*TT in ZZ and take modulo q\n",
    "    BBz=HHz*GGz-AAtz*TT\n",
    "    print(\"BBz=\")\n",
    "    print(BBz)\n",
    "    \n",
    "    BBz=BBz%q\n",
    "    \n",
    "    # Change into ZZq\n",
    "    BB=BBz.change_ring(ZZq)        \n",
    "    print(\"BB=\")\n",
    "    print(BB)\n",
    "    \n",
    "    # Set AA=[AAt|BB]\n",
    "    AA=AAt.augment(BB, subdivide=True)\n",
    "    print(\"AA=\")\n",
    "    print(AA)\n",
    "    return (AA, HH, TT, q)\n",
    "\n",
    "(AA,HH,TT, q)=gen_trap_mp_12(5,13, 25,1)\n",
    "print(\"AA=\",AA)\n",
    "print(\"HH=\",HH)\n",
    "print(\"TT=\",TT)\n",
    "print(\"q=\",q)\n",
    "#==========================================================  "
   ]
  },
  {
   "cell_type": "code",
   "execution_count": null,
   "metadata": {},
   "outputs": [],
   "source": [
    "def standard_qAry_basis(AA, mod):\n",
    "    \"\"\"\n",
    "    *Compute a basis for q-ary lattice generated by matrix AA in standard uSVP and BDD strategy\n",
    "    *Input:\n",
    "                AA:   matrix\n",
    "               mod:   modulo\n",
    "    *Output:\n",
    "        qary_basis: q-ary basis \n",
    "    \"\"\"\n",
    "    \n",
    "    m=AA.nrows()\n",
    "    qII=mod*identity_matrix(m)         # the matrix mod*II_m where II_m is the identity matrix) \n",
    "    BB=qII.stack(AA.transpose())       # Create concatenation matrix of the form (qII   AA)^T\n",
    "    BB_HNF=BB.echelon_form()           # compute Hermite Normal Form of matrix BB\n",
    "    qary_basis=BB_HNF[0:m]             # m first rows of BB_HNF (which is non-zero)\n",
    "    return qary_basis\n"
   ]
  },
  {
   "cell_type": "code",
   "execution_count": 147,
   "metadata": {},
   "outputs": [
    {
     "name": "stdout",
     "output_type": "stream",
     "text": [
      "[3 1 3 3]\n",
      "[3 2 2 0]\n",
      "[1 3 2 1]\n",
      "[4 3 3 3]\n",
      "inv_AA=\n",
      "[3 2 1 0]\n",
      "[3 4 2 3]\n",
      "[0 1 4 2]\n",
      "[3 4 1 2]\n"
     ]
    },
    {
     "ename": "TypeError",
     "evalue": "argument of type 'sage.rings.integer.Integer' is not iterable",
     "output_type": "error",
     "traceback": [
      "\u001b[0;31m---------------------------------------------------------------------------\u001b[0m",
      "\u001b[0;31mTypeError\u001b[0m                                 Traceback (most recent call last)",
      "\u001b[0;32m<ipython-input-147-1eba88c1d097>\u001b[0m in \u001b[0;36m<module>\u001b[0;34m\u001b[0m\n\u001b[1;32m     27\u001b[0m \u001b[0mprint\u001b[0m\u001b[0;34m(\u001b[0m\u001b[0mLL\u001b[0m\u001b[0;34m)\u001b[0m\u001b[0;34m\u001b[0m\u001b[0;34m\u001b[0m\u001b[0m\n\u001b[1;32m     28\u001b[0m \u001b[0;34m\u001b[0m\u001b[0m\n\u001b[0;32m---> 29\u001b[0;31m \u001b[0mKK\u001b[0m\u001b[0;34m=\u001b[0m\u001b[0mmodulo_inverse_matrix\u001b[0m\u001b[0;34m(\u001b[0m\u001b[0mLL\u001b[0m\u001b[0;34m,\u001b[0m \u001b[0mq\u001b[0m\u001b[0;34m)\u001b[0m\u001b[0;34m\u001b[0m\u001b[0;34m\u001b[0m\u001b[0m\n\u001b[0m\u001b[1;32m     30\u001b[0m \u001b[0mprint\u001b[0m\u001b[0;34m(\u001b[0m\u001b[0mLL\u001b[0m\u001b[0;34m)\u001b[0m\u001b[0;34m\u001b[0m\u001b[0;34m\u001b[0m\u001b[0m\n",
      "\u001b[0;32m<ipython-input-147-1eba88c1d097>\u001b[0m in \u001b[0;36mmodulo_inverse_matrix\u001b[0;34m(matrix, modulus)\u001b[0m\n\u001b[1;32m     14\u001b[0m     \u001b[0mprint\u001b[0m\u001b[0;34m(\u001b[0m\u001b[0;34m\"inv_AA=\"\u001b[0m\u001b[0;34m)\u001b[0m\u001b[0;34m\u001b[0m\u001b[0;34m\u001b[0m\u001b[0m\n\u001b[1;32m     15\u001b[0m     \u001b[0mprint\u001b[0m\u001b[0;34m(\u001b[0m\u001b[0minv_AA\u001b[0m\u001b[0;34m)\u001b[0m\u001b[0;34m\u001b[0m\u001b[0;34m\u001b[0m\u001b[0m\n\u001b[0;32m---> 16\u001b[0;31m     \u001b[0mdet_inverse\u001b[0m\u001b[0;34m=\u001b[0m\u001b[0mdeterminant\u001b[0m\u001b[0;34m.\u001b[0m\u001b[0minverse_mod\u001b[0m\u001b[0;34m(\u001b[0m\u001b[0mq\u001b[0m\u001b[0;34m)\u001b[0m                    \u001b[0;31m# inverse modulo mod of the real det(AA)\u001b[0m\u001b[0;34m\u001b[0m\u001b[0;34m\u001b[0m\u001b[0m\n\u001b[0m\u001b[1;32m     17\u001b[0m     \u001b[0mprint\u001b[0m\u001b[0;34m(\u001b[0m\u001b[0;34m\"det_inverse=\"\u001b[0m\u001b[0;34m,\u001b[0m \u001b[0mdet_inverse\u001b[0m\u001b[0;34m)\u001b[0m\u001b[0;34m\u001b[0m\u001b[0;34m\u001b[0m\u001b[0m\n\u001b[1;32m     18\u001b[0m     \u001b[0mAA_inverse_q\u001b[0m\u001b[0;34m=\u001b[0m\u001b[0;34m(\u001b[0m\u001b[0mdet_inverse\u001b[0m\u001b[0;34m*\u001b[0m\u001b[0mdeterminant\u001b[0m\u001b[0;34m*\u001b[0m\u001b[0minv_AA\u001b[0m\u001b[0;34m)\u001b[0m\u001b[0;34m%\u001b[0m\u001b[0mq\u001b[0m        \u001b[0;31m# inverse modulo mod of AA\u001b[0m\u001b[0;34m\u001b[0m\u001b[0;34m\u001b[0m\u001b[0m\n",
      "\u001b[0;32m/opt/sagemath-9.2/local/lib/python3.7/site-packages/sage/structure/element.pyx\u001b[0m in \u001b[0;36msage.structure.element.CommutativeRingElement.inverse_mod (build/cythonized/sage/structure/element.c:20165)\u001b[0;34m()\u001b[0m\n\u001b[1;32m   2901\u001b[0m         \u001b[0;32mif\u001b[0m \u001b[0mI\u001b[0m\u001b[0;34m.\u001b[0m\u001b[0mis_one\u001b[0m\u001b[0;34m(\u001b[0m\u001b[0;34m)\u001b[0m\u001b[0;34m:\u001b[0m\u001b[0;34m\u001b[0m\u001b[0;34m\u001b[0m\u001b[0m\n\u001b[1;32m   2902\u001b[0m             \u001b[0;32mreturn\u001b[0m \u001b[0mself\u001b[0m\u001b[0;34m.\u001b[0m\u001b[0mparent\u001b[0m\u001b[0;34m(\u001b[0m\u001b[0;34m)\u001b[0m\u001b[0;34m.\u001b[0m\u001b[0mone\u001b[0m\u001b[0;34m(\u001b[0m\u001b[0;34m)\u001b[0m\u001b[0;34m\u001b[0m\u001b[0;34m\u001b[0m\u001b[0m\n\u001b[0;32m-> 2903\u001b[0;31m         \u001b[0;32melif\u001b[0m \u001b[0mself\u001b[0m \u001b[0;32min\u001b[0m \u001b[0mI\u001b[0m\u001b[0;34m:\u001b[0m\u001b[0;34m\u001b[0m\u001b[0;34m\u001b[0m\u001b[0m\n\u001b[0m\u001b[1;32m   2904\u001b[0m             \u001b[0;32mraise\u001b[0m \u001b[0mValueError\u001b[0m\u001b[0;34m(\u001b[0m\u001b[0;34m\"an element of a proper ideal does not have an inverse modulo that ideal\"\u001b[0m\u001b[0;34m)\u001b[0m\u001b[0;34m\u001b[0m\u001b[0;34m\u001b[0m\u001b[0m\n\u001b[1;32m   2905\u001b[0m         \u001b[0;32melif\u001b[0m \u001b[0mhasattr\u001b[0m\u001b[0;34m(\u001b[0m\u001b[0mself\u001b[0m\u001b[0;34m,\u001b[0m \u001b[0;34m\"is_unit\"\u001b[0m\u001b[0;34m)\u001b[0m \u001b[0;32mand\u001b[0m \u001b[0mself\u001b[0m\u001b[0;34m.\u001b[0m\u001b[0mis_unit\u001b[0m\u001b[0;34m(\u001b[0m\u001b[0;34m)\u001b[0m\u001b[0;34m:\u001b[0m\u001b[0;34m\u001b[0m\u001b[0;34m\u001b[0m\u001b[0m\n",
      "\u001b[0;31mTypeError\u001b[0m: argument of type 'sage.rings.integer.Integer' is not iterable"
     ]
    }
   ],
   "source": [
    "def modulo_inverse_matrix(matrix, modulus):\n",
    "    \"\"\"\n",
    "    *Compute the inverse modulo mod of matrix AA\n",
    "    *Input: \n",
    "                   a   matrix\n",
    "                   a   modulus\n",
    "    *Output:\n",
    "        AA_inverse_q: inverse modulo q of AA \n",
    "    \"\"\"\n",
    "    AA=matrix\n",
    "    q=modulus\n",
    "    determinant=AA.det()                                      # determinant of the matrix AA, i.e., det(AA)\n",
    "    inv_AA=AA.inverse()                              # inverse of the matrix AA\n",
    "    print(\"inv_AA=\")\n",
    "    print(inv_AA)\n",
    "    det_inverse=determinant.inverse_mod(q)                    # inverse modulo mod of the real det(AA) \n",
    "    print(\"det_inverse=\", det_inverse)\n",
    "    AA_inverse_q=(det_inverse*determinant*inv_AA)%q        # inverse modulo mod of AA\n",
    "    print(\"AA_inverse_q=\")\n",
    "    print(AA_inverse_q)\n",
    "    \n",
    "    return AA_inverse_q\n",
    "\n",
    "q=5\n",
    "n=4\n",
    "LL=random_invertible_matrix(5, 4)\n",
    "print(LL)\n",
    "\n",
    "KK=modulo_inverse_matrix(LL, q)\n",
    "print(LL)"
   ]
  },
  {
   "cell_type": "code",
   "execution_count": 146,
   "metadata": {},
   "outputs": [
    {
     "name": "stdout",
     "output_type": "stream",
     "text": [
      "[2 2 3 0]\n",
      "[3 4 0 3]\n",
      "[1 4 4 4]\n",
      "[4 0 0 1]\n",
      "inv_AA=\n",
      "[1 4 3 1]\n",
      "[1 3 3 4]\n",
      "[4 2 1 0]\n",
      "[1 4 3 2]\n"
     ]
    },
    {
     "ename": "TypeError",
     "evalue": "argument of type 'sage.rings.integer.Integer' is not iterable",
     "output_type": "error",
     "traceback": [
      "\u001b[0;31m---------------------------------------------------------------------------\u001b[0m",
      "\u001b[0;31mTypeError\u001b[0m                                 Traceback (most recent call last)",
      "\u001b[0;32m<ipython-input-146-c88155b99479>\u001b[0m in \u001b[0;36m<module>\u001b[0;34m\u001b[0m\n\u001b[1;32m      4\u001b[0m \u001b[0mprint\u001b[0m\u001b[0;34m(\u001b[0m\u001b[0mLL\u001b[0m\u001b[0;34m)\u001b[0m\u001b[0;34m\u001b[0m\u001b[0;34m\u001b[0m\u001b[0m\n\u001b[1;32m      5\u001b[0m \u001b[0;34m\u001b[0m\u001b[0m\n\u001b[0;32m----> 6\u001b[0;31m \u001b[0mKK\u001b[0m\u001b[0;34m=\u001b[0m\u001b[0mmodulo_inverse_matrix\u001b[0m\u001b[0;34m(\u001b[0m\u001b[0mLL\u001b[0m\u001b[0;34m,\u001b[0m \u001b[0mq\u001b[0m\u001b[0;34m)\u001b[0m\u001b[0;34m\u001b[0m\u001b[0;34m\u001b[0m\u001b[0m\n\u001b[0m\u001b[1;32m      7\u001b[0m \u001b[0mprint\u001b[0m\u001b[0;34m(\u001b[0m\u001b[0mLL\u001b[0m\u001b[0;34m)\u001b[0m\u001b[0;34m\u001b[0m\u001b[0;34m\u001b[0m\u001b[0m\n",
      "\u001b[0;32m<ipython-input-145-1eba88c1d097>\u001b[0m in \u001b[0;36mmodulo_inverse_matrix\u001b[0;34m(matrix, modulus)\u001b[0m\n\u001b[1;32m     14\u001b[0m     \u001b[0mprint\u001b[0m\u001b[0;34m(\u001b[0m\u001b[0;34m\"inv_AA=\"\u001b[0m\u001b[0;34m)\u001b[0m\u001b[0;34m\u001b[0m\u001b[0;34m\u001b[0m\u001b[0m\n\u001b[1;32m     15\u001b[0m     \u001b[0mprint\u001b[0m\u001b[0;34m(\u001b[0m\u001b[0minv_AA\u001b[0m\u001b[0;34m)\u001b[0m\u001b[0;34m\u001b[0m\u001b[0;34m\u001b[0m\u001b[0m\n\u001b[0;32m---> 16\u001b[0;31m     \u001b[0mdet_inverse\u001b[0m\u001b[0;34m=\u001b[0m\u001b[0mdeterminant\u001b[0m\u001b[0;34m.\u001b[0m\u001b[0minverse_mod\u001b[0m\u001b[0;34m(\u001b[0m\u001b[0mq\u001b[0m\u001b[0;34m)\u001b[0m                    \u001b[0;31m# inverse modulo mod of the real det(AA)\u001b[0m\u001b[0;34m\u001b[0m\u001b[0;34m\u001b[0m\u001b[0m\n\u001b[0m\u001b[1;32m     17\u001b[0m     \u001b[0mprint\u001b[0m\u001b[0;34m(\u001b[0m\u001b[0;34m\"det_inverse=\"\u001b[0m\u001b[0;34m,\u001b[0m \u001b[0mdet_inverse\u001b[0m\u001b[0;34m)\u001b[0m\u001b[0;34m\u001b[0m\u001b[0;34m\u001b[0m\u001b[0m\n\u001b[1;32m     18\u001b[0m     \u001b[0mAA_inverse_q\u001b[0m\u001b[0;34m=\u001b[0m\u001b[0;34m(\u001b[0m\u001b[0mdet_inverse\u001b[0m\u001b[0;34m*\u001b[0m\u001b[0mdeterminant\u001b[0m\u001b[0;34m*\u001b[0m\u001b[0minv_AA\u001b[0m\u001b[0;34m)\u001b[0m\u001b[0;34m%\u001b[0m\u001b[0mq\u001b[0m        \u001b[0;31m# inverse modulo mod of AA\u001b[0m\u001b[0;34m\u001b[0m\u001b[0;34m\u001b[0m\u001b[0m\n",
      "\u001b[0;32m/opt/sagemath-9.2/local/lib/python3.7/site-packages/sage/structure/element.pyx\u001b[0m in \u001b[0;36msage.structure.element.CommutativeRingElement.inverse_mod (build/cythonized/sage/structure/element.c:20165)\u001b[0;34m()\u001b[0m\n\u001b[1;32m   2901\u001b[0m         \u001b[0;32mif\u001b[0m \u001b[0mI\u001b[0m\u001b[0;34m.\u001b[0m\u001b[0mis_one\u001b[0m\u001b[0;34m(\u001b[0m\u001b[0;34m)\u001b[0m\u001b[0;34m:\u001b[0m\u001b[0;34m\u001b[0m\u001b[0;34m\u001b[0m\u001b[0m\n\u001b[1;32m   2902\u001b[0m             \u001b[0;32mreturn\u001b[0m \u001b[0mself\u001b[0m\u001b[0;34m.\u001b[0m\u001b[0mparent\u001b[0m\u001b[0;34m(\u001b[0m\u001b[0;34m)\u001b[0m\u001b[0;34m.\u001b[0m\u001b[0mone\u001b[0m\u001b[0;34m(\u001b[0m\u001b[0;34m)\u001b[0m\u001b[0;34m\u001b[0m\u001b[0;34m\u001b[0m\u001b[0m\n\u001b[0;32m-> 2903\u001b[0;31m         \u001b[0;32melif\u001b[0m \u001b[0mself\u001b[0m \u001b[0;32min\u001b[0m \u001b[0mI\u001b[0m\u001b[0;34m:\u001b[0m\u001b[0;34m\u001b[0m\u001b[0;34m\u001b[0m\u001b[0m\n\u001b[0m\u001b[1;32m   2904\u001b[0m             \u001b[0;32mraise\u001b[0m \u001b[0mValueError\u001b[0m\u001b[0;34m(\u001b[0m\u001b[0;34m\"an element of a proper ideal does not have an inverse modulo that ideal\"\u001b[0m\u001b[0;34m)\u001b[0m\u001b[0;34m\u001b[0m\u001b[0;34m\u001b[0m\u001b[0m\n\u001b[1;32m   2905\u001b[0m         \u001b[0;32melif\u001b[0m \u001b[0mhasattr\u001b[0m\u001b[0;34m(\u001b[0m\u001b[0mself\u001b[0m\u001b[0;34m,\u001b[0m \u001b[0;34m\"is_unit\"\u001b[0m\u001b[0;34m)\u001b[0m \u001b[0;32mand\u001b[0m \u001b[0mself\u001b[0m\u001b[0;34m.\u001b[0m\u001b[0mis_unit\u001b[0m\u001b[0;34m(\u001b[0m\u001b[0;34m)\u001b[0m\u001b[0;34m:\u001b[0m\u001b[0;34m\u001b[0m\u001b[0;34m\u001b[0m\u001b[0m\n",
      "\u001b[0;31mTypeError\u001b[0m: argument of type 'sage.rings.integer.Integer' is not iterable"
     ]
    }
   ],
   "source": [
    "q=5\n",
    "n=4\n",
    "LL=random_invertible_matrix(5, 4)\n",
    "print(LL)\n",
    "\n",
    "KK=modulo_inverse_matrix(LL, q)\n",
    "print(LL)"
   ]
  },
  {
   "cell_type": "code",
   "execution_count": 129,
   "metadata": {},
   "outputs": [
    {
     "name": "stdout",
     "output_type": "stream",
     "text": [
      "mt= 5\n",
      "nk= 20\n",
      "AAt=\n",
      "[ 5  4  0  9  1]\n",
      "[ 0  2  8 10 12]\n",
      "[ 3  0  6  0  0]\n",
      "[ 4  1  7  5  5]\n",
      "[ 5  6  7  0  4]\n",
      "gg= (1, 2, 4, 8)\n",
      "GG=\n",
      "[0 0 0 0 0 0 0 0 0 0 0 0 0 0 0 0 0 0 0 0]\n",
      "[0 0 0 0 0 0 0 0 0 0 0 0 0 0 0 0 0 0 0 0]\n",
      "[0 0 0 0 0 0 0 0 0 0 0 0 0 0 0 0 0 0 0 0]\n",
      "[0 0 0 0 0 0 0 0 0 0 0 0 0 0 0 0 0 0 0 0]\n",
      "[0 0 0 0 0 0 0 0 0 0 0 0 0 0 0 0 0 0 0 0]\n",
      "GG=\n",
      "[1 2 4 8 0 0 0 0 0 0 0 0 0 0 0 0 0 0 0 0]\n",
      "[0 0 0 0 1 2 4 8 0 0 0 0 0 0 0 0 0 0 0 0]\n",
      "[0 0 0 0 0 0 0 0 1 2 4 8 0 0 0 0 0 0 0 0]\n",
      "[0 0 0 0 0 0 0 0 0 0 0 0 1 2 4 8 0 0 0 0]\n",
      "[0 0 0 0 0 0 0 0 0 0 0 0 0 0 0 0 1 2 4 8]\n",
      "GG=\n",
      "[1 2 4 8 0 0 0 0 0 0 0 0 0 0 0 0 0 0 0 0]\n",
      "[0 0 0 0 1 2 4 8 0 0 0 0 0 0 0 0 0 0 0 0]\n",
      "[0 0 0 0 0 0 0 0 1 2 4 8 0 0 0 0 0 0 0 0]\n",
      "[0 0 0 0 0 0 0 0 0 0 0 0 1 2 4 8 0 0 0 0]\n",
      "[0 0 0 0 0 0 0 0 0 0 0 0 0 0 0 0 1 2 4 8]\n",
      "cc=\n",
      "(0, 0, 0, 0, 0, 0, 0, 0, 0, 0, 0, 0, 0, 0, 0, 0, 0, 0, 0, 0)\n",
      "TT=\n",
      "[-1  1  0  0 -1  0 -1  0  0  0  0  0  1  0  1  0  0 -1  0  0]\n",
      "[ 1  0  1  0  0  0  0 -1  1  0 -1  0 -1  1  0  1  0  0  0  1]\n",
      "[ 0  0  0  0  0  0 -1  0 -1  1  1  0  1  0 -1  0  0  0  0  0]\n",
      "[ 0  1  0  1  1  0  1  0  1  0  0  0  0  0  0  0  0  1  0  0]\n",
      "[ 0 -1  0  1  1  0  0  1  0 -1 -1  0  0  0  0  0  0  0  0  0]\n",
      "HH=\n",
      "[12 11  4  7  2]\n",
      "[ 5  6  5  6  0]\n",
      "[11 12 11  0  4]\n",
      "[ 3  6  9  4  4]\n",
      "[12  0 12  2  8]\n",
      "BBz=\n",
      "[ 13  11  44  86   6  22  40  91  -9   9  21  32   6  10  23  52   2   0   8  12]\n",
      "[  3  12  18  18 -16  12  22  38   1  14  26  40   0  10  32  46   0 -10   0  -2]\n",
      "[ 14  19  44  88  15  24  57  96  17  16  38  88  -9   0   3   0   4  11  16  32]\n",
      "[  6   2  11  14   0  12  30  44  10  16  35  72  -6   7  19  31   4   7  16  31]\n",
      "[ 11  23  42  92   1   0  12   2  13  21  51  96  -4  -2  10  10   8  21  32  58]\n",
      "BB=\n",
      "[ 0 11  5  8  6  9  1  0  4  9  8  6  6 10 10  0  2  0  8 12]\n",
      "[ 3 12  5  5 10 12  9 12  1  1  0  1  0 10  6  7  0  3  0 11]\n",
      "[ 1  6  5 10  2 11  5  5  4  3 12 10  4  0  3  0  4 11  3  6]\n",
      "[ 6  2 11  1  0 12  4  5 10  3  9  7  7  7  6  5  4  7  3  5]\n",
      "[11 10  3  1  1  0 12  2  0  8 12  5  9 11 10 10  8  8  6  6]\n",
      "AA=\n",
      "[ 5  4  0  9  1| 0 11  5  8  6  9  1  0  4  9  8  6  6 10 10  0  2  0  8 12]\n",
      "[ 0  2  8 10 12| 3 12  5  5 10 12  9 12  1  1  0  1  0 10  6  7  0  3  0 11]\n",
      "[ 3  0  6  0  0| 1  6  5 10  2 11  5  5  4  3 12 10  4  0  3  0  4 11  3  6]\n",
      "[ 4  1  7  5  5| 6  2 11  1  0 12  4  5 10  3  9  7  7  7  6  5  4  7  3  5]\n",
      "[ 5  6  7  0  4|11 10  3  1  1  0 12  2  0  8 12  5  9 11 10 10  8  8  6  6]\n",
      "AA= [ 5  4  0  9  1| 0 11  5  8  6  9  1  0  4  9  8  6  6 10 10  0  2  0  8 12]\n",
      "[ 0  2  8 10 12| 3 12  5  5 10 12  9 12  1  1  0  1  0 10  6  7  0  3  0 11]\n",
      "[ 3  0  6  0  0| 1  6  5 10  2 11  5  5  4  3 12 10  4  0  3  0  4 11  3  6]\n",
      "[ 4  1  7  5  5| 6  2 11  1  0 12  4  5 10  3  9  7  7  7  6  5  4  7  3  5]\n",
      "[ 5  6  7  0  4|11 10  3  1  1  0 12  2  0  8 12  5  9 11 10 10  8  8  6  6]\n",
      "HH= [12 11  4  7  2]\n",
      "[ 5  6  5  6  0]\n",
      "[11 12 11  0  4]\n",
      "[ 3  6  9  4  4]\n",
      "[12  0 12  2  8]\n",
      "TT= [-1  1  0  0 -1  0 -1  0  0  0  0  0  1  0  1  0  0 -1  0  0]\n",
      "[ 1  0  1  0  0  0  0 -1  1  0 -1  0 -1  1  0  1  0  0  0  1]\n",
      "[ 0  0  0  0  0  0 -1  0 -1  1  1  0  1  0 -1  0  0  0  0  0]\n",
      "[ 0  1  0  1  1  0  1  0  1  0  0  0  0  0  0  0  0  1  0  0]\n",
      "[ 0 -1  0  1  1  0  0  1  0 -1 -1  0  0  0  0  0  0  0  0  0]\n",
      "q= 13\n"
     ]
    },
    {
     "name": "stderr",
     "output_type": "stream",
     "text": [
      "<>:13: DeprecationWarning: invalid escape sequence \\L\n",
      "<>:13: DeprecationWarning: invalid escape sequence \\L\n",
      "<>:13: DeprecationWarning: invalid escape sequence \\L\n",
      "<ipython-input-129-952d4a7cf9e6>:13: DeprecationWarning: invalid escape sequence \\L\n",
      "  \"\"\"\n"
     ]
    },
    {
     "ename": "TypeError",
     "evalue": "argument of type 'sage.rings.integer.Integer' is not iterable",
     "output_type": "error",
     "traceback": [
      "\u001b[0;31m---------------------------------------------------------------------------\u001b[0m",
      "\u001b[0;31mTypeError\u001b[0m                                 Traceback (most recent call last)",
      "\u001b[0;32m<ipython-input-129-952d4a7cf9e6>\u001b[0m in \u001b[0;36m<module>\u001b[0;34m\u001b[0m\n\u001b[1;32m     76\u001b[0m \u001b[0mprint\u001b[0m\u001b[0;34m(\u001b[0m\u001b[0;34m\"TT=\"\u001b[0m\u001b[0;34m,\u001b[0m\u001b[0mTT\u001b[0m\u001b[0;34m)\u001b[0m\u001b[0;34m\u001b[0m\u001b[0;34m\u001b[0m\u001b[0m\n\u001b[1;32m     77\u001b[0m \u001b[0mprint\u001b[0m\u001b[0;34m(\u001b[0m\u001b[0;34m\"q=\"\u001b[0m\u001b[0;34m,\u001b[0m\u001b[0mq\u001b[0m\u001b[0;34m)\u001b[0m\u001b[0;34m\u001b[0m\u001b[0;34m\u001b[0m\u001b[0m\n\u001b[0;32m---> 78\u001b[0;31m \u001b[0mHH_inverse\u001b[0m\u001b[0;34m=\u001b[0m\u001b[0mmodulo_inverse_matrix\u001b[0m\u001b[0;34m(\u001b[0m\u001b[0mHH\u001b[0m\u001b[0;34m,\u001b[0m \u001b[0mq\u001b[0m\u001b[0;34m)\u001b[0m\u001b[0;34m\u001b[0m\u001b[0;34m\u001b[0m\u001b[0m\n\u001b[0m\u001b[1;32m     79\u001b[0m \u001b[0mprint\u001b[0m\u001b[0;34m(\u001b[0m\u001b[0;34m\"HH_inverse=\"\u001b[0m\u001b[0;34m,\u001b[0m\u001b[0mHH_inverse\u001b[0m\u001b[0;34m)\u001b[0m\u001b[0;34m\u001b[0m\u001b[0;34m\u001b[0m\u001b[0m\n\u001b[1;32m     80\u001b[0m \u001b[0msigma\u001b[0m\u001b[0;34m=\u001b[0m\u001b[0mInteger\u001b[0m\u001b[0;34m(\u001b[0m\u001b[0;36m5\u001b[0m\u001b[0;34m)\u001b[0m\u001b[0;34m\u001b[0m\u001b[0;34m\u001b[0m\u001b[0m\n",
      "\u001b[0;32m<ipython-input-126-0463dcd1ba50>\u001b[0m in \u001b[0;36mmodulo_inverse_matrix\u001b[0;34m(AA, mod)\u001b[0m\n\u001b[1;32m     11\u001b[0m     \u001b[0mdet\u001b[0m\u001b[0;34m=\u001b[0m\u001b[0mAA\u001b[0m\u001b[0;34m.\u001b[0m\u001b[0mdet\u001b[0m\u001b[0;34m(\u001b[0m\u001b[0;34m)\u001b[0m                                      \u001b[0;31m# determinant of the matrix AA, i.e., det(AA)\u001b[0m\u001b[0;34m\u001b[0m\u001b[0;34m\u001b[0m\u001b[0m\n\u001b[1;32m     12\u001b[0m     \u001b[0minverseAA\u001b[0m\u001b[0;34m=\u001b[0m\u001b[0mAA\u001b[0m\u001b[0;34m.\u001b[0m\u001b[0minverse\u001b[0m\u001b[0;34m(\u001b[0m\u001b[0;34m)\u001b[0m                            \u001b[0;31m# inverse of the matrix AA\u001b[0m\u001b[0;34m\u001b[0m\u001b[0;34m\u001b[0m\u001b[0m\n\u001b[0;32m---> 13\u001b[0;31m     \u001b[0mdet_inverse\u001b[0m\u001b[0;34m=\u001b[0m\u001b[0mdet\u001b[0m\u001b[0;34m.\u001b[0m\u001b[0minverse_mod\u001b[0m\u001b[0;34m(\u001b[0m\u001b[0mmod\u001b[0m\u001b[0;34m)\u001b[0m                  \u001b[0;31m# inverse modulo mod of the real det(AA)\u001b[0m\u001b[0;34m\u001b[0m\u001b[0;34m\u001b[0m\u001b[0m\n\u001b[0m\u001b[1;32m     14\u001b[0m     \u001b[0mAA_inverse_mod\u001b[0m\u001b[0;34m=\u001b[0m\u001b[0;34m(\u001b[0m\u001b[0mdet_inverse\u001b[0m\u001b[0;34m*\u001b[0m\u001b[0mdet\u001b[0m\u001b[0;34m*\u001b[0m\u001b[0minverseAA\u001b[0m\u001b[0;34m)\u001b[0m\u001b[0;34m%\u001b[0m\u001b[0mmod\u001b[0m    \u001b[0;31m# inverse modulo mod of AA\u001b[0m\u001b[0;34m\u001b[0m\u001b[0;34m\u001b[0m\u001b[0m\n\u001b[1;32m     15\u001b[0m \u001b[0;34m\u001b[0m\u001b[0m\n",
      "\u001b[0;32m/opt/sagemath-9.2/local/lib/python3.7/site-packages/sage/structure/element.pyx\u001b[0m in \u001b[0;36msage.structure.element.CommutativeRingElement.inverse_mod (build/cythonized/sage/structure/element.c:20165)\u001b[0;34m()\u001b[0m\n\u001b[1;32m   2901\u001b[0m         \u001b[0;32mif\u001b[0m \u001b[0mI\u001b[0m\u001b[0;34m.\u001b[0m\u001b[0mis_one\u001b[0m\u001b[0;34m(\u001b[0m\u001b[0;34m)\u001b[0m\u001b[0;34m:\u001b[0m\u001b[0;34m\u001b[0m\u001b[0;34m\u001b[0m\u001b[0m\n\u001b[1;32m   2902\u001b[0m             \u001b[0;32mreturn\u001b[0m \u001b[0mself\u001b[0m\u001b[0;34m.\u001b[0m\u001b[0mparent\u001b[0m\u001b[0;34m(\u001b[0m\u001b[0;34m)\u001b[0m\u001b[0;34m.\u001b[0m\u001b[0mone\u001b[0m\u001b[0;34m(\u001b[0m\u001b[0;34m)\u001b[0m\u001b[0;34m\u001b[0m\u001b[0;34m\u001b[0m\u001b[0m\n\u001b[0;32m-> 2903\u001b[0;31m         \u001b[0;32melif\u001b[0m \u001b[0mself\u001b[0m \u001b[0;32min\u001b[0m \u001b[0mI\u001b[0m\u001b[0;34m:\u001b[0m\u001b[0;34m\u001b[0m\u001b[0;34m\u001b[0m\u001b[0m\n\u001b[0m\u001b[1;32m   2904\u001b[0m             \u001b[0;32mraise\u001b[0m \u001b[0mValueError\u001b[0m\u001b[0;34m(\u001b[0m\u001b[0;34m\"an element of a proper ideal does not have an inverse modulo that ideal\"\u001b[0m\u001b[0;34m)\u001b[0m\u001b[0;34m\u001b[0m\u001b[0;34m\u001b[0m\u001b[0m\n\u001b[1;32m   2905\u001b[0m         \u001b[0;32melif\u001b[0m \u001b[0mhasattr\u001b[0m\u001b[0;34m(\u001b[0m\u001b[0mself\u001b[0m\u001b[0;34m,\u001b[0m \u001b[0;34m\"is_unit\"\u001b[0m\u001b[0;34m)\u001b[0m \u001b[0;32mand\u001b[0m \u001b[0mself\u001b[0m\u001b[0;34m.\u001b[0m\u001b[0mis_unit\u001b[0m\u001b[0;34m(\u001b[0m\u001b[0;34m)\u001b[0m\u001b[0;34m:\u001b[0m\u001b[0;34m\u001b[0m\u001b[0;34m\u001b[0m\u001b[0m\n",
      "\u001b[0;31mTypeError\u001b[0m: argument of type 'sage.rings.integer.Integer' is not iterable"
     ]
    }
   ],
   "source": [
    "def gaussian_sample_mp12(TT,AA,HH,uu,sigma,q):\n",
    "    \"\"\"\n",
    "    Sample vector from discrete Gaussian over q-ary lattice \\Lambda_q^{uu}(AA);\n",
    "    Inputs:\n",
    "    TT: (mt x w)-matrix trapdoor for matrix AA (via [MP12]) in ZZq\n",
    "    AA: (n x m)-matrix in Zzq\n",
    "    HH: (n x n)-matrix (tag w.r.t AA, TT) in ZZq\n",
    "    uu: n-vector in ZZq\n",
    "    q: modulus for ring Zzq\n",
    "    sigma: Gaussian parameter\n",
    "    Output: a (pseudo-random) vector in q-ary lattice \\Lambda_q^{uu}(AA)\n",
    "    \n",
    "    \"\"\"\n",
    "    # Dimensions, sizes \n",
    "    n=AA.nrows()\n",
    "    print(\"n=\", n)\n",
    "    m=AA.ncols()\n",
    "    print(\"m=\", m)\n",
    "    mt=TT.nrows()\n",
    "    print(\"mt=\", mt)\n",
    "    w=TT.ncols()\n",
    "    print(\"w=\", w)\n",
    "    r=log(n,2)\n",
    "    print(\"r=\", r)\n",
    "    \n",
    "    #Generate gadget matrix GG\n",
    "    GG=gadget_matrix(n, q)\n",
    "    GG=GG.change_ring(ZZ)\n",
    "    print(\"GG=\")\n",
    "    print(GG)\n",
    "    \n",
    "    \n",
    "    #====Compute [TT^t I]^t[TT^t I] ============\n",
    "    II=identity_matrix(ZZq,w)\n",
    "    KK=(TT.transpose()).augment(II)\n",
    "    print(\"KK=\");print(KK)\n",
    "   \n",
    "    sigma_2=5\n",
    "    #sigma_2=sqrt((2*KK.transpose()*KK).det(),2)\n",
    "    \n",
    "    print(\"sigma_2=\", sigma_2)\n",
    "    #=======Set rp====\n",
    "    rp=r*sigma_2\n",
    "    \n",
    "    #===Choose pp from D_{ZZ^m,rp}====\n",
    "    cc=zero_vector(ZZ,m)\n",
    "    pp=sample_d(ZZ^m,rp,cc)\n",
    "    print(\"pp=\", pp)\n",
    "    pp1=vector([pp[i] for i in range(mt)])\n",
    "    pp2=vector([pp[i] for i in [mt..m-1]])\n",
    "    print(\"pp1=\", pp1)\n",
    "    print(\"pp2\", pp2)\n",
    "    \n",
    "    AAt=AA[[0..n-1],[0..mt-1]]\n",
    "    \n",
    "    \n",
    "    AAt= AAt.change_ring(ZZ)\n",
    "    print(\"AAt=\");print(AAt)\n",
    "  \n",
    "    wwt=(AAt*(pp1-TT*pp2))%q\n",
    "    ww=(GG*pp2)%q\n",
    "    print(\"wwt=\",wwt)\n",
    "    print(\"ww=\",ww)\n",
    "    \n",
    "    # \n",
    "    HH_inverse=modulo_inverse_matrix(HH, q)\n",
    "    print(\"HH_inverse=\",HH_inverse)\n",
    "        \n",
    "    vv=HH_inverse*(uu-wwt)-ww\n",
    "    print(\"vv=\",vv)\n",
    "    return KK\n",
    "\n",
    "(AA,HH,TT, q)=gen_trap_mp_12(5,13, 25,1)\n",
    "print(\"AA=\",AA)\n",
    "print(\"HH=\",HH)\n",
    "print(\"TT=\",TT)\n",
    "print(\"q=\",q)\n",
    "HH_inverse=modulo_inverse_matrix(HH, q)\n",
    "print(\"HH_inverse=\",HH_inverse)\n",
    "sigma=5\n",
    "#sigma_2=3\n",
    "uu=random_vector(ZZ,n)\n",
    "print(\"uu=\", uu)\n",
    "\n",
    "gaussian_sample_mp12(TT,AA,HH,uu,sigma,q)    \n",
    "    "
   ]
  },
  {
   "cell_type": "code",
   "execution_count": 90,
   "metadata": {},
   "outputs": [],
   "source": [
    "a=vector([2, 3, 4, 5,6])\n",
    "b=vector([1,3,])"
   ]
  },
  {
   "cell_type": "code",
   "execution_count": null,
   "metadata": {},
   "outputs": [],
   "source": [
    "a.tensor_product(b)"
   ]
  },
  {
   "cell_type": "code",
   "execution_count": null,
   "metadata": {},
   "outputs": [],
   "source": []
  }
 ],
 "metadata": {
  "kernelspec": {
   "display_name": "SageMath 9.2",
   "language": "sage",
   "name": "sagemath"
  },
  "language_info": {
   "codemirror_mode": {
    "name": "ipython",
    "version": 3
   },
   "file_extension": ".py",
   "mimetype": "text/x-python",
   "name": "python",
   "nbconvert_exporter": "python",
   "pygments_lexer": "ipython3",
   "version": "3.8.5"
  }
 },
 "nbformat": 4,
 "nbformat_minor": 4
}
